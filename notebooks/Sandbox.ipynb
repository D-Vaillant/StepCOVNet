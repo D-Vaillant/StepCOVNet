{
 "cells": [
  {
   "cell_type": "code",
   "execution_count": 28,
   "metadata": {},
   "outputs": [],
   "source": [
    "from librosa.onset import onset_detect\n",
    "import librosa\n",
    "from madmom.audio.signal import SignalProcessor, FramedSignalProcessor\n",
    "from madmom.audio.stft import ShortTimeFourierTransformProcessor\n",
    "from madmom.audio.filters import MelFilterbank\n",
    "from madmom.audio.spectrogram import (FilteredSpectrogramProcessor,\n",
    "                                      LogarithmicSpectrogramProcessor)"
   ]
  },
  {
   "cell_type": "code",
   "execution_count": 2,
   "metadata": {},
   "outputs": [],
   "source": [
    "import numpy as np\n",
    "import joblib\n",
    "\n",
    "with open(\"../data/dataset_features.npz\", 'rb') as f:\n",
    "    features = joblib.load(f)"
   ]
  },
  {
   "cell_type": "code",
   "execution_count": 1,
   "metadata": {},
   "outputs": [],
   "source": [
    "import numpy as np\n",
    "import joblib\n",
    "\n",
    "\n",
    "with open(\"../data/multi_scaler_low.pkl\", 'rb') as f:\n",
    "    scaler_low = joblib.load(f)\n",
    "    \n",
    "with open(\"../data/multi_scaler_mid.pkl\", 'rb') as f:\n",
    "    scaler_mid = joblib.load(f)\n",
    "\n",
    "with open(\"../data/multi_scaler_high.pkl\", 'rb') as f:\n",
    "    scaler_high = joblib.load(f)"
   ]
  },
  {
   "cell_type": "code",
   "execution_count": 104,
   "metadata": {},
   "outputs": [],
   "source": [
    "with open(\"../data/scaler.pkl\", 'rb') as f:\n",
    "    scaler = joblib.load(f)"
   ]
  },
  {
   "cell_type": "code",
   "execution_count": 105,
   "metadata": {},
   "outputs": [
    {
     "data": {
      "text/plain": [
       "(2, 15)"
      ]
     },
     "execution_count": 105,
     "metadata": {},
     "output_type": "execute_result"
    }
   ],
   "source": [
    "scaler.shape"
   ]
  },
  {
   "cell_type": "code",
   "execution_count": 99,
   "metadata": {},
   "outputs": [
    {
     "data": {
      "text/plain": [
       "array([[-2.795, -2.795, -2.795, ..., -3.94 , -3.83 , -4.383],\n",
       "       [-2.178, -2.178, -2.178, ..., -2.309, -2.732, -3.71 ],\n",
       "       [-1.505, -1.505, -1.505, ..., -2.562, -2.666, -3.379],\n",
       "       ...,\n",
       "       [-2.25 , -2.25 , -2.25 , ..., -1.868, -2.139, -2.31 ],\n",
       "       [-2.176, -2.176, -2.176, ..., -1.824, -2.098, -2.229],\n",
       "       [-2.3  , -2.3  , -2.3  , ..., -1.978, -2.21 , -2.23 ]],\n",
       "      dtype=float16)"
      ]
     },
     "execution_count": 99,
     "metadata": {},
     "output_type": "execute_result"
    }
   ],
   "source": [
    "smaller[0]"
   ]
  },
  {
   "cell_type": "code",
   "execution_count": 95,
   "metadata": {},
   "outputs": [
    {
     "data": {
      "text/plain": [
       "array([[1.2468907, 1.246283 , 1.2456695, 1.2450496, 1.2444187, 1.2437747,\n",
       "        1.2431103, 1.2424166, 1.2417231, 1.2409903, 1.240241 , 1.2394862,\n",
       "        1.2387303, 1.237972 , 1.237212 ],\n",
       "       [1.2020398, 1.2019933, 1.2019464, 1.2018992, 1.2018511, 1.2018025,\n",
       "        1.2017533, 1.2017033, 1.2016535, 1.2016041, 1.201555 , 1.2015066,\n",
       "        1.2014589, 1.2014112, 1.2013618]], dtype=float32)"
      ]
     },
     "execution_count": 95,
     "metadata": {},
     "output_type": "execute_result"
    }
   ],
   "source": [
    "scaler_high"
   ]
  },
  {
   "cell_type": "code",
   "execution_count": 4,
   "metadata": {},
   "outputs": [
    {
     "data": {
      "text/plain": [
       "array([[1.2457175, 1.2454381, 1.2451525, 1.2448591, 1.2445551, 1.2442358,\n",
       "        1.243894 , 1.2435199, 1.2431457, 1.2427292, 1.2422959, 1.2418566,\n",
       "        1.2414157, 1.2409726, 1.2405264],\n",
       "       [1.2137035, 1.2136649, 1.2136261, 1.2135873, 1.213548 , 1.2135079,\n",
       "        1.2134669, 1.2134248, 1.2133831, 1.2133417, 1.2133007, 1.2132607,\n",
       "        1.2132217, 1.2131823, 1.2131412]], dtype=float32)"
      ]
     },
     "execution_count": 4,
     "metadata": {},
     "output_type": "execute_result"
    }
   ],
   "source": [
    "scaler_high"
   ]
  },
  {
   "cell_type": "code",
   "execution_count": 96,
   "metadata": {},
   "outputs": [
    {
     "data": {
      "text/plain": [
       "array([[0.8747069 , 0.8743256 , 0.8739377 , 0.8735424 , 0.8731342 ,\n",
       "        0.8727016 , 0.8722207 , 0.8714114 , 0.87060237, 0.86975974,\n",
       "        0.8687226 , 0.8676422 , 0.86655706, 0.8654679 , 0.8643751 ],\n",
       "       [1.261682  , 1.261645  , 1.2616072 , 1.2615683 , 1.2615288 ,\n",
       "        1.261488  , 1.2614461 , 1.2613953 , 1.2613449 , 1.2612914 ,\n",
       "        1.2612319 , 1.2611731 , 1.2611145 , 1.2610564 , 1.2609992 ]],\n",
       "      dtype=float32)"
      ]
     },
     "execution_count": 96,
     "metadata": {},
     "output_type": "execute_result"
    }
   ],
   "source": [
    "scaler_mid"
   ]
  },
  {
   "cell_type": "code",
   "execution_count": 3,
   "metadata": {},
   "outputs": [
    {
     "data": {
      "text/plain": [
       "array([[0.8752344 , 0.8751961 , 0.87515134, 0.8750988 , 0.8750322 ,\n",
       "        0.87493896, 0.874792  , 0.8742899 , 0.87378836, 0.87324977,\n",
       "        0.87250084, 0.87170494, 0.8709039 , 0.8700982 , 0.8692874 ],\n",
       "       [1.2755594 , 1.2755313 , 1.2755029 , 1.2754737 , 1.275444  ,\n",
       "        1.2754126 , 1.27538   , 1.2753378 , 1.2752957 , 1.2752507 ,\n",
       "        1.2751988 , 1.2751479 , 1.2750971 , 1.2750461 , 1.2749965 ]],\n",
       "      dtype=float32)"
      ]
     },
     "execution_count": 3,
     "metadata": {},
     "output_type": "execute_result"
    }
   ],
   "source": [
    "scaler_mid"
   ]
  },
  {
   "cell_type": "code",
   "execution_count": 97,
   "metadata": {},
   "outputs": [
    {
     "data": {
      "text/plain": [
       "array([[0.53828776, 0.5379547 , 0.5376155 , 0.5372696 , 0.5369056 ,\n",
       "        0.53650224, 0.5357637 , 0.53453934, 0.5333161 , 0.5320198 ,\n",
       "        0.53071177, 0.5294139 , 0.5278753 , 0.5263299 , 0.5247849 ],\n",
       "       [1.3225148 , 1.3224894 , 1.3224633 , 1.3224361 , 1.3224089 ,\n",
       "        1.3223784 , 1.3223392 , 1.3222824 , 1.3222258 , 1.322157  ,\n",
       "        1.322083  , 1.3220102 , 1.3219337 , 1.3218572 , 1.3217803 ]],\n",
       "      dtype=float32)"
      ]
     },
     "execution_count": 97,
     "metadata": {},
     "output_type": "execute_result"
    }
   ],
   "source": [
    "scaler_low"
   ]
  },
  {
   "cell_type": "code",
   "execution_count": 2,
   "metadata": {},
   "outputs": [
    {
     "data": {
      "text/plain": [
       "array([[0.54078287, 0.5407952 , 0.5408004 , 0.5407974 , 0.5407762 ,\n",
       "        0.54071033, 0.5402818 , 0.5393281 , 0.53837544, 0.53734213,\n",
       "        0.53629726, 0.5352633 , 0.53396755, 0.53266263, 0.5313589 ],\n",
       "       [1.3367289 , 1.3367143 , 1.3366988 , 1.3366826 , 1.3366666 ,\n",
       "        1.3366474 , 1.3366194 , 1.3365719 , 1.336524  , 1.3364633 ,\n",
       "        1.3363962 , 1.3363311 , 1.3362615 , 1.3361909 , 1.3361206 ]],\n",
       "      dtype=float32)"
      ]
     },
     "execution_count": 2,
     "metadata": {},
     "output_type": "execute_result"
    }
   ],
   "source": [
    "scaler_low"
   ]
  },
  {
   "cell_type": "code",
   "execution_count": 100,
   "metadata": {},
   "outputs": [
    {
     "data": {
      "text/plain": [
       "(2, 15)"
      ]
     },
     "execution_count": 100,
     "metadata": {},
     "output_type": "execute_result"
    }
   ],
   "source": [
    "scaler_mid.shape"
   ]
  },
  {
   "cell_type": "code",
   "execution_count": 79,
   "metadata": {},
   "outputs": [
    {
     "data": {
      "text/plain": [
       "array([[-0.1647, -0.1653, -0.1659, -0.1665, -0.1671, -0.1677, -0.1682,\n",
       "        -0.1693, -0.1703, -0.1714, -0.1724, -0.1735, -0.1746, -0.1757,\n",
       "        -0.1766],\n",
       "       [ 0.0756,  0.0756,  0.0756,  0.0756,  0.0756,  0.0756,  0.0756,\n",
       "         0.0756,  0.0756,  0.0756,  0.0756,  0.0756,  0.0756,  0.0756,\n",
       "         0.0756]], dtype=float16)"
      ]
     },
     "execution_count": 79,
     "metadata": {},
     "output_type": "execute_result"
    }
   ],
   "source": [
    "scaler_mid"
   ]
  },
  {
   "cell_type": "code",
   "execution_count": 80,
   "metadata": {},
   "outputs": [
    {
     "data": {
      "text/plain": [
       "array([[0.07465, 0.07465, 0.0746 , 0.0746 , 0.0745 , 0.07446, 0.07446,\n",
       "        0.0744 , 0.0743 , 0.0742 , 0.07416, 0.0741 , 0.07404, 0.0739 ,\n",
       "        0.07385],\n",
       "       [0.0756 , 0.0756 , 0.0756 , 0.0756 , 0.0756 , 0.0756 , 0.0756 ,\n",
       "        0.0756 , 0.0756 , 0.0756 , 0.0756 , 0.0756 , 0.0756 , 0.0756 ,\n",
       "        0.0756 ]], dtype=float16)"
      ]
     },
     "execution_count": 80,
     "metadata": {},
     "output_type": "execute_result"
    }
   ],
   "source": [
    "scaler_high"
   ]
  },
  {
   "cell_type": "code",
   "execution_count": 76,
   "metadata": {},
   "outputs": [
    {
     "data": {
      "text/plain": [
       "array([[-0.1814, -0.1818, -0.182 , -0.1823, -0.1826, -0.1829, -0.1837,\n",
       "        -0.1847, -0.1854, -0.1863, -0.1873, -0.1884, -0.1901, -0.191 ,\n",
       "        -0.1924],\n",
       "       [ 0.0756,  0.0756,  0.0756,  0.0756,  0.0756,  0.0756,  0.0756,\n",
       "         0.0756,  0.0756,  0.0756,  0.0756,  0.0756,  0.0756,  0.0756,\n",
       "         0.0756]], dtype=float16)"
      ]
     },
     "execution_count": 76,
     "metadata": {},
     "output_type": "execute_result"
    }
   ],
   "source": [
    "scaler"
   ]
  },
  {
   "cell_type": "code",
   "execution_count": 74,
   "metadata": {},
   "outputs": [
    {
     "data": {
      "text/plain": [
       "array([[-0.1982, -0.1985, -0.1989, -0.199 , -0.1993, -0.1995, -0.2001,\n",
       "        -0.201 , -0.2019, -0.2026, -0.2036, -0.2046, -0.2067, -0.2076,\n",
       "        -0.2092],\n",
       "       [ 0.0756,  0.0756,  0.0756,  0.0756,  0.0756,  0.0756,  0.0756,\n",
       "         0.0756,  0.0756,  0.0756,  0.0756,  0.0756,  0.0756,  0.0756,\n",
       "         0.0756]], dtype=float16)"
      ]
     },
     "execution_count": 74,
     "metadata": {},
     "output_type": "execute_result"
    }
   ],
   "source": [
    "scaler"
   ]
  },
  {
   "cell_type": "code",
   "execution_count": null,
   "metadata": {},
   "outputs": [],
   "source": [
    "small_f = features[10,:,:]"
   ]
  },
  {
   "cell_type": "code",
   "execution_count": 19,
   "metadata": {},
   "outputs": [],
   "source": [
    "def feature_reshape(feature, multi=False):\n",
    "    \"\"\"\n",
    "    reshape mfccBands feature into n_sample * n_row * n_col\n",
    "    :param feature:\n",
    "    :return:\n",
    "    \"\"\"\n",
    "\n",
    "    n_sample = feature.shape[0]\n",
    "    n_row = 80\n",
    "    n_col = 15\n",
    "\n",
    "    feature_reshaped = np.zeros((n_sample, n_row, n_col), dtype='float16')\n",
    "    if multi:\n",
    "        feature_reshaped = np.zeros((n_sample, n_row, n_col, feature.shape[-1]), dtype='float16')\n",
    "    # print(\"reshaping feature...\")\n",
    "    for ii in range(n_sample):\n",
    "        # print ii\n",
    "        feature_frame = np.zeros((n_row, n_col), dtype='float16')\n",
    "        if multi:\n",
    "            feature_frame = np.zeros((n_row, n_col, feature.shape[-1]), dtype='float16')\n",
    "        for jj in range(n_col):\n",
    "            feature_frame[:, jj] = feature[ii][n_row * jj:n_row * (jj + 1)]\n",
    "        feature_reshaped[ii, :, :] = feature_frame\n",
    "    return feature_reshaped"
   ]
  },
  {
   "cell_type": "code",
   "execution_count": 24,
   "metadata": {},
   "outputs": [
    {
     "name": "stderr",
     "output_type": "stream",
     "text": [
      "c:\\users\\mrchr\\miniconda3\\envs\\tf2\\lib\\site-packages\\numpy\\core\\_methods.py:199: RuntimeWarning: overflow encountered in reduce\n",
      "  ret = umr_sum(x, axis, dtype, out, keepdims)\n"
     ]
    },
    {
     "data": {
      "text/plain": [
       "array([1.437, 1.56 , 1.658, ..., 0.   , 0.   , 0.   ], dtype=float16)"
      ]
     },
     "execution_count": 24,
     "metadata": {},
     "output_type": "execute_result"
    }
   ],
   "source": [
    "np.var(features, axis = 1)"
   ]
  },
  {
   "cell_type": "code",
   "execution_count": 38,
   "metadata": {},
   "outputs": [
    {
     "name": "stdout",
     "output_type": "stream",
     "text": [
      "54.7 s ± 113 ms per loop (mean ± std. dev. of 7 runs, 1 loop each)\n"
     ]
    }
   ],
   "source": [
    "def get_scalers():\n",
    "    stds = np.mean(np.std(re_feat, axis = 0), axis = 0)\n",
    "    means = np.mean(np.mean(re_feat, axis = 0), axis = 0)\n",
    "    \n",
    "%timeit get_scalers()"
   ]
  },
  {
   "cell_type": "code",
   "execution_count": 43,
   "metadata": {},
   "outputs": [
    {
     "name": "stdout",
     "output_type": "stream",
     "text": [
      "37.8 s ± 437 ms per loop (mean ± std. dev. of 7 runs, 1 loop each)\n"
     ]
    }
   ],
   "source": [
    "def get_scalers():\n",
    "    stds = [np.std(re_feat[:,:,i]) for i in range(re_feat.shape[-1])]\n",
    "    return stds\n",
    "    #stds = np.mean(np.std(re_feat, axis = 0), axis = 0)\n",
    "    #means = np.mean(np.mean(re_feat, axis = 0), axis = 0)\n",
    "%timeit scalers = get_scalers()"
   ]
  },
  {
   "cell_type": "code",
   "execution_count": 46,
   "metadata": {},
   "outputs": [],
   "source": [
    "from sklearn.preprocessing import scale"
   ]
  },
  {
   "cell_type": "code",
   "execution_count": 51,
   "metadata": {},
   "outputs": [],
   "source": [
    "smaller = re_feat[:100]"
   ]
  },
  {
   "cell_type": "code",
   "execution_count": 63,
   "metadata": {},
   "outputs": [
    {
     "data": {
      "text/plain": [
       "(15,)"
      ]
     },
     "execution_count": 63,
     "metadata": {},
     "output_type": "execute_result"
    }
   ],
   "source": [
    "[np.nanmean(np.nanstd(smaller, axis=1, keepdims = False), axis=0)].shape"
   ]
  },
  {
   "cell_type": "code",
   "execution_count": 68,
   "metadata": {},
   "outputs": [
    {
     "data": {
      "text/plain": [
       "[array([-0.1022 , -0.10223, -0.1023 , -0.1024 , -0.1025 , -0.10254,\n",
       "        -0.10266, -0.1027 , -0.1028 , -0.1029 , -0.10297, -0.103  ,\n",
       "        -0.10315, -0.1032 , -0.1033 ], dtype=float16),\n",
       " array([0.0819, 0.0819, 0.0819, 0.0819, 0.0819, 0.0819, 0.0819, 0.0819,\n",
       "        0.0819, 0.0819, 0.0819, 0.0819, 0.0819, 0.0819, 0.0819],\n",
       "       dtype=float16)]"
      ]
     },
     "execution_count": 68,
     "metadata": {},
     "output_type": "execute_result"
    }
   ],
   "source": [
    "smaller = re_feat[:100000]\n",
    "[np.nanmean(np.nanmean(smaller, axis=1), axis=0), np.nanmean(np.nanstd(smaller, axis=1), axis=0)]"
   ]
  },
  {
   "cell_type": "code",
   "execution_count": 52,
   "metadata": {},
   "outputs": [
    {
     "ename": "ValueError",
     "evalue": "Found array with dim 3. the scale function expected <= 2.",
     "output_type": "error",
     "traceback": [
      "\u001b[1;31m---------------------------------------------------------------------------\u001b[0m",
      "\u001b[1;31mValueError\u001b[0m                                Traceback (most recent call last)",
      "\u001b[1;32m<ipython-input-52-83eaa0d0f839>\u001b[0m in \u001b[0;36m<module>\u001b[1;34m\u001b[0m\n\u001b[1;32m----> 1\u001b[1;33m \u001b[0mscale\u001b[0m\u001b[1;33m(\u001b[0m\u001b[0msmaller\u001b[0m\u001b[1;33m,\u001b[0m \u001b[0maxis\u001b[0m \u001b[1;33m=\u001b[0m \u001b[1;36m1\u001b[0m\u001b[1;33m)\u001b[0m\u001b[1;33m\u001b[0m\u001b[1;33m\u001b[0m\u001b[0m\n\u001b[0m",
      "\u001b[1;32mc:\\users\\mrchr\\miniconda3\\envs\\tf2\\lib\\site-packages\\sklearn\\preprocessing\\data.py\u001b[0m in \u001b[0;36mscale\u001b[1;34m(X, axis, with_mean, with_std, copy)\u001b[0m\n\u001b[0;32m    139\u001b[0m     X = check_array(X, accept_sparse='csc', copy=copy, ensure_2d=False,\n\u001b[0;32m    140\u001b[0m                     \u001b[0mestimator\u001b[0m\u001b[1;33m=\u001b[0m\u001b[1;34m'the scale function'\u001b[0m\u001b[1;33m,\u001b[0m \u001b[0mdtype\u001b[0m\u001b[1;33m=\u001b[0m\u001b[0mFLOAT_DTYPES\u001b[0m\u001b[1;33m,\u001b[0m\u001b[1;33m\u001b[0m\u001b[1;33m\u001b[0m\u001b[0m\n\u001b[1;32m--> 141\u001b[1;33m                     force_all_finite='allow-nan')\n\u001b[0m\u001b[0;32m    142\u001b[0m     \u001b[1;32mif\u001b[0m \u001b[0msparse\u001b[0m\u001b[1;33m.\u001b[0m\u001b[0missparse\u001b[0m\u001b[1;33m(\u001b[0m\u001b[0mX\u001b[0m\u001b[1;33m)\u001b[0m\u001b[1;33m:\u001b[0m\u001b[1;33m\u001b[0m\u001b[1;33m\u001b[0m\u001b[0m\n\u001b[0;32m    143\u001b[0m         \u001b[1;32mif\u001b[0m \u001b[0mwith_mean\u001b[0m\u001b[1;33m:\u001b[0m\u001b[1;33m\u001b[0m\u001b[1;33m\u001b[0m\u001b[0m\n",
      "\u001b[1;32mc:\\users\\mrchr\\miniconda3\\envs\\tf2\\lib\\site-packages\\sklearn\\utils\\validation.py\u001b[0m in \u001b[0;36mcheck_array\u001b[1;34m(array, accept_sparse, accept_large_sparse, dtype, order, copy, force_all_finite, ensure_2d, allow_nd, ensure_min_samples, ensure_min_features, warn_on_dtype, estimator)\u001b[0m\n\u001b[0;32m    537\u001b[0m         \u001b[1;32mif\u001b[0m \u001b[1;32mnot\u001b[0m \u001b[0mallow_nd\u001b[0m \u001b[1;32mand\u001b[0m \u001b[0marray\u001b[0m\u001b[1;33m.\u001b[0m\u001b[0mndim\u001b[0m \u001b[1;33m>=\u001b[0m \u001b[1;36m3\u001b[0m\u001b[1;33m:\u001b[0m\u001b[1;33m\u001b[0m\u001b[1;33m\u001b[0m\u001b[0m\n\u001b[0;32m    538\u001b[0m             raise ValueError(\"Found array with dim %d. %s expected <= 2.\"\n\u001b[1;32m--> 539\u001b[1;33m                              % (array.ndim, estimator_name))\n\u001b[0m\u001b[0;32m    540\u001b[0m         \u001b[1;32mif\u001b[0m \u001b[0mforce_all_finite\u001b[0m\u001b[1;33m:\u001b[0m\u001b[1;33m\u001b[0m\u001b[1;33m\u001b[0m\u001b[0m\n\u001b[0;32m    541\u001b[0m             _assert_all_finite(array,\n",
      "\u001b[1;31mValueError\u001b[0m: Found array with dim 3. the scale function expected <= 2."
     ]
    }
   ],
   "source": [
    "scale(smaller, axis = 1)"
   ]
  },
  {
   "cell_type": "code",
   "execution_count": 45,
   "metadata": {},
   "outputs": [
    {
     "data": {
      "text/plain": [
       "[inf, inf, inf, inf, inf, inf, inf, inf, inf, inf, inf, inf, inf, inf, inf]"
      ]
     },
     "execution_count": 45,
     "metadata": {},
     "output_type": "execute_result"
    }
   ],
   "source": [
    "scalers"
   ]
  },
  {
   "cell_type": "code",
   "execution_count": 42,
   "metadata": {},
   "outputs": [
    {
     "data": {
      "text/plain": [
       "15"
      ]
     },
     "execution_count": 42,
     "metadata": {},
     "output_type": "execute_result"
    }
   ],
   "source": [
    "len(scalers)"
   ]
  },
  {
   "cell_type": "code",
   "execution_count": 37,
   "metadata": {},
   "outputs": [
    {
     "data": {
      "text/plain": [
       "((15,), (15,))"
      ]
     },
     "execution_count": 37,
     "metadata": {},
     "output_type": "execute_result"
    }
   ],
   "source": [
    "stds.shape, means.shape"
   ]
  },
  {
   "cell_type": "code",
   "execution_count": 33,
   "metadata": {},
   "outputs": [
    {
     "data": {
      "text/plain": [
       "(1818016, 15)"
      ]
     },
     "execution_count": 33,
     "metadata": {},
     "output_type": "execute_result"
    }
   ],
   "source": [
    "stds.shape"
   ]
  },
  {
   "cell_type": "code",
   "execution_count": 22,
   "metadata": {},
   "outputs": [
    {
     "data": {
      "text/plain": [
       "StandardScaler(copy=True, with_mean=True, with_std=True)"
      ]
     },
     "execution_count": 22,
     "metadata": {},
     "output_type": "execute_result"
    }
   ],
   "source": [
    "from sklearn.preprocessing import StandardScaler\n",
    "StandardScaler().fit(features)"
   ]
  },
  {
   "cell_type": "code",
   "execution_count": 25,
   "metadata": {},
   "outputs": [],
   "source": [
    "re_feat = feature_reshape(features)"
   ]
  },
  {
   "cell_type": "code",
   "execution_count": 27,
   "metadata": {},
   "outputs": [
    {
     "data": {
      "text/plain": [
       "(1818016, 80, 15)"
      ]
     },
     "execution_count": 27,
     "metadata": {},
     "output_type": "execute_result"
    }
   ],
   "source": [
    "re_feat.shape"
   ]
  },
  {
   "cell_type": "code",
   "execution_count": 1,
   "metadata": {},
   "outputs": [],
   "source": [
    "import numpy as np\n",
    "with open(\"training_data/dataset_features.npz\", 'rb') as f:\n",
    "    simple_f = np.load(f)['features']\n",
    "labels = np.ones((len(simple_f),))\n",
    "\n",
    "with open(\"training_data/sample_weights.npz\", 'rb') as f:\n",
    "    s_w = np.load(f)['sample_weights']\n",
    "    \n",
    "with open(\"training_data/extra_features.npz\", 'rb') as f:\n",
    "    e_f = np.load(f)['sample_weights']\n",
    "    \n",
    "import joblib\n",
    "scalers = []\n",
    "\n",
    "with open(\"training_data/scaler.pkl\", 'rb') as f:\n",
    "    scalers.append(joblib.load(f))"
   ]
  },
  {
   "cell_type": "code",
   "execution_count": 2,
   "metadata": {},
   "outputs": [],
   "source": [
    "from training_scripts.timeseries_feature_generator import TimeFeatureGenerator\n",
    "time_gen = TimeFeatureGenerator(simple_f,\n",
    "                                np.ones((len(simple_f),)),\n",
    "                                5,\n",
    "                                256,\n",
    "                                sample_weights=s_w,\n",
    "                                extra_features=e_f,\n",
    "                                scalers=scalers)"
   ]
  },
  {
   "cell_type": "code",
   "execution_count": 3,
   "metadata": {},
   "outputs": [
    {
     "data": {
      "text/plain": [
       "100"
      ]
     },
     "execution_count": 3,
     "metadata": {},
     "output_type": "execute_result"
    }
   ],
   "source": [
    "len(time_gen)"
   ]
  },
  {
   "cell_type": "code",
   "execution_count": 6,
   "metadata": {},
   "outputs": [
    {
     "data": {
      "text/plain": [
       "array([1., 1., 1., 1., 1., 1., 1., 1., 1., 1., 1., 1., 1., 1., 1., 1., 1.,\n",
       "       1., 1., 1., 1., 1., 1., 1., 1., 1., 1., 1., 1., 1., 1., 1., 1., 1.,\n",
       "       1., 1., 1., 1., 1., 1., 1., 1., 1., 1., 1., 1., 1., 1., 1., 1., 1.,\n",
       "       1., 1., 1., 1., 1., 1., 1., 1., 1., 1., 1., 1., 1., 1., 1., 1., 1.,\n",
       "       1., 1., 1., 1., 1., 1., 1., 1., 1., 1., 1., 1., 1., 1., 1., 1., 1.,\n",
       "       1., 1., 1., 1., 1., 1., 1., 1., 1., 1., 1., 1., 1., 1., 1., 1., 1.,\n",
       "       1., 1., 1., 1., 1., 1., 1., 1., 1., 1., 1., 1., 1., 1., 1., 1., 1.,\n",
       "       1., 1., 1., 1., 1., 1., 1., 1., 1., 1., 1., 1., 1., 1., 1., 1., 1.,\n",
       "       1., 1., 1., 1., 1., 1., 1., 1., 1., 1., 1., 1., 1., 1., 1., 1., 1.,\n",
       "       1., 1., 1., 1., 1., 1., 1., 1., 1., 1., 1., 1., 1., 1., 1., 1., 1.,\n",
       "       1., 1., 1., 1., 1., 1., 1., 1., 1., 1., 1., 1., 1., 1., 1., 1., 1.,\n",
       "       1., 1., 1., 1., 1., 1., 1., 1., 1., 1., 1., 1., 1., 1., 1., 1., 1.,\n",
       "       1., 1., 1., 1., 1., 1., 1., 1., 1., 1., 1., 1., 1., 1., 1., 1., 1.,\n",
       "       1., 1., 1., 1., 1., 1., 1., 1., 1., 1., 1., 1., 1., 1., 1., 1., 1.,\n",
       "       1., 1., 1., 1., 1., 1., 1., 1., 1., 1., 1., 1., 1., 1., 1., 1., 1.,\n",
       "       1.])"
      ]
     },
     "execution_count": 6,
     "metadata": {},
     "output_type": "execute_result"
    }
   ],
   "source": [
    "time_gen[0][2] "
   ]
  },
  {
   "cell_type": "code",
   "execution_count": 1,
   "metadata": {},
   "outputs": [],
   "source": [
    "import numpy as np\n",
    "\n",
    "limit = 1000000\n",
    "\n",
    "with open(\"training_data/multi_dataset_features.npz\", 'rb') as f:\n",
    "    f_used = np.load(f)['features'][:limit]\n",
    "    \n",
    "with open(\"training_data/multi_labels.npz\", 'rb') as f:\n",
    "    labels = np.load(f)['labels'][:limit]\n",
    "    \n",
    "with open(\"training_data/multi_sample_weights.npz\", 'rb') as f:\n",
    "    s_w = np.load(f)['sample_weights'][:limit]\n",
    "    \n",
    "with open(\"training_data/multi_extra_features.npz\", 'rb') as f:\n",
    "    e_f = np.load(f)['extra_features'][:limit]\n",
    "    \n",
    "import joblib\n",
    "scalers = []\n",
    "\n",
    "with open(\"training_data/multi_scaler_low.pkl\", \"rb\") as file:\n",
    "    scalers.append(joblib.load(file))\n",
    "with open(\"training_data/multi_scaler_mid.pkl\", \"rb\") as file:\n",
    "    scalers.append(joblib.load(file))\n",
    "with open(\"training_data/multi_scaler_high.pkl\", \"rb\") as file:\n",
    "    scalers.append(joblib.load(file))"
   ]
  },
  {
   "cell_type": "code",
   "execution_count": 2,
   "metadata": {},
   "outputs": [],
   "source": [
    "from training_scripts.timeseries_feature_generator import TimeFeatureGenerator\n",
    "multi_time_gen = TimeFeatureGenerator(f_used,\n",
    "                                labels,\n",
    "                                5,\n",
    "                                256,\n",
    "                                sample_weights=s_w,\n",
    "                                extra_features=e_f,\n",
    "                                scalers=scalers,\n",
    "                                     stride=2)"
   ]
  },
  {
   "cell_type": "code",
   "execution_count": 3,
   "metadata": {},
   "outputs": [
    {
     "data": {
      "text/plain": [
       "3907"
      ]
     },
     "execution_count": 3,
     "metadata": {},
     "output_type": "execute_result"
    }
   ],
   "source": [
    "len(multi_time_gen)"
   ]
  },
  {
   "cell_type": "code",
   "execution_count": 9,
   "metadata": {},
   "outputs": [
    {
     "data": {
      "text/plain": [
       "['other_preprocessed_multi_generator.pkl']"
      ]
     },
     "execution_count": 9,
     "metadata": {},
     "output_type": "execute_result"
    }
   ],
   "source": [
    "joblib.dump(multi_time_gen, \"other_preprocessed_multi_generator.pkl\")"
   ]
  },
  {
   "cell_type": "code",
   "execution_count": 25,
   "metadata": {},
   "outputs": [
    {
     "data": {
      "text/plain": [
       "7813"
      ]
     },
     "execution_count": 25,
     "metadata": {},
     "output_type": "execute_result"
    }
   ],
   "source": [
    "len(multi_time_gen[])"
   ]
  },
  {
   "cell_type": "code",
   "execution_count": 23,
   "metadata": {},
   "outputs": [
    {
     "data": {
      "text/plain": [
       "array([0., 0., 0., 0., 0., 0., 0., 0., 0., 0., 0., 0., 0., 0., 0., 0., 0.,\n",
       "       0., 0., 0., 0., 0., 0., 0., 0., 0., 0., 0., 0., 0., 0., 0., 0., 0.,\n",
       "       0., 0., 0., 0., 0., 0., 0., 0., 0., 0., 0., 0., 0., 0., 0., 0., 0.,\n",
       "       0., 0., 0., 0., 0., 0., 0., 0., 0., 0., 0., 0., 0., 0., 0., 0., 0.,\n",
       "       0., 0., 0., 0., 0., 0., 0., 0., 0., 0., 0., 0., 0., 0., 0., 0., 0.,\n",
       "       0., 0., 0., 0., 0., 0., 0., 0., 0., 0., 0., 0., 0., 0., 0., 0., 0.,\n",
       "       0., 0., 0., 0., 0., 0., 0., 0., 0., 0., 0., 0., 0., 0., 0., 0., 0.,\n",
       "       0., 0., 0., 0., 0., 0., 0., 0., 0., 0., 0., 0., 0., 0., 0., 0., 0.,\n",
       "       0., 0., 0., 0., 0., 0., 0., 0., 0., 0., 0., 0., 0., 0., 0., 0., 0.,\n",
       "       0., 0., 0., 0., 0., 0., 0., 0., 0., 0., 0., 0., 0., 0., 0., 0., 0.,\n",
       "       0., 0., 0., 0., 0., 0., 0., 0., 0., 0., 0., 0., 0., 0., 0., 0., 0.,\n",
       "       0., 0., 0., 0., 0., 0., 0., 0., 0., 0., 0., 0., 0., 0., 0., 0., 0.,\n",
       "       0., 0., 0., 0., 0., 0., 0., 0., 0., 0., 0., 0., 0., 0., 0., 0., 0.,\n",
       "       0., 0., 0., 0., 0., 0., 0., 0., 0., 0., 0., 0., 0., 0., 0., 0., 0.,\n",
       "       0., 0., 0., 0., 0., 0., 0., 0., 0., 0., 0., 0., 0., 0., 0., 0., 0.,\n",
       "       0.], dtype=float16)"
      ]
     },
     "execution_count": 23,
     "metadata": {},
     "output_type": "execute_result"
    }
   ],
   "source": [
    "multi_time_gen[0][1]"
   ]
  },
  {
   "cell_type": "code",
   "execution_count": 8,
   "metadata": {},
   "outputs": [],
   "source": [
    "from tensorflow.keras.preprocessing.sequence import TimeseriesGenerator"
   ]
  },
  {
   "cell_type": "code",
   "execution_count": 17,
   "metadata": {},
   "outputs": [],
   "source": [
    "gen = TimeseriesGenerator(snips, np.ones((snips.shape[0],)), 2, batch_size=10)"
   ]
  },
  {
   "cell_type": "code",
   "execution_count": 18,
   "metadata": {},
   "outputs": [
    {
     "data": {
      "text/plain": [
       "(10, 2, 80, 15, 3)"
      ]
     },
     "execution_count": 18,
     "metadata": {},
     "output_type": "execute_result"
    }
   ],
   "source": [
    "gen[0][0].shape"
   ]
  },
  {
   "cell_type": "code",
   "execution_count": 26,
   "metadata": {},
   "outputs": [],
   "source": [
    "reshaped = f_used.reshape((f_used.shape[0], 80, 15, 3))"
   ]
  },
  {
   "cell_type": "code",
   "execution_count": 27,
   "metadata": {},
   "outputs": [
    {
     "data": {
      "text/plain": [
       "(2000000, 80, 15, 3)"
      ]
     },
     "execution_count": 27,
     "metadata": {},
     "output_type": "execute_result"
    }
   ],
   "source": [
    "reshaped.shape"
   ]
  },
  {
   "cell_type": "code",
   "execution_count": 28,
   "metadata": {},
   "outputs": [],
   "source": [
    "snip = reshaped[0:256]"
   ]
  },
  {
   "cell_type": "code",
   "execution_count": 29,
   "metadata": {},
   "outputs": [
    {
     "data": {
      "text/plain": [
       "(256, 80, 15, 3)"
      ]
     },
     "execution_count": 29,
     "metadata": {},
     "output_type": "execute_result"
    }
   ],
   "source": [
    "snip.shape"
   ]
  },
  {
   "cell_type": "code",
   "execution_count": 33,
   "metadata": {},
   "outputs": [],
   "source": [
    "from tensorflow.keras.preprocessing.sequence import TimeseriesGenerator\n",
    "gen = TimeseriesGenerator(snip, np.ones((snip.shape[0],5)), 5, batch_size=1)"
   ]
  },
  {
   "cell_type": "code",
   "execution_count": 36,
   "metadata": {},
   "outputs": [
    {
     "data": {
      "text/plain": [
       "(1, 5, 80, 15, 3)"
      ]
     },
     "execution_count": 36,
     "metadata": {},
     "output_type": "execute_result"
    }
   ],
   "source": [
    "gen[0][0].shape"
   ]
  },
  {
   "cell_type": "code",
   "execution_count": 34,
   "metadata": {},
   "outputs": [
    {
     "data": {
      "text/plain": [
       "251"
      ]
     },
     "execution_count": 34,
     "metadata": {},
     "output_type": "execute_result"
    }
   ],
   "source": [
    "len(gen)"
   ]
  },
  {
   "cell_type": "code",
   "execution_count": 31,
   "metadata": {},
   "outputs": [
    {
     "data": {
      "text/plain": [
       "7813"
      ]
     },
     "execution_count": 31,
     "metadata": {},
     "output_type": "execute_result"
    }
   ],
   "source": [
    "len(gen) 30 * 3 + 60 * 5\n",
    "         100ish + 150ish\n",
    "    \n"
   ]
  },
  {
   "cell_type": "code",
   "execution_count": 65,
   "metadata": {},
   "outputs": [],
   "source": []
  },
  {
   "cell_type": "code",
   "execution_count": 3,
   "metadata": {},
   "outputs": [
    {
     "name": "stdout",
     "output_type": "stream",
     "text": [
      "<tensorflow.python.keras.preprocessing.sequence.TimeseriesGenerator object at 0x000001757F6D7278>\n"
     ]
    }
   ],
   "source": []
  },
  {
   "cell_type": "code",
   "execution_count": null,
   "metadata": {},
   "outputs": [],
   "source": []
  },
  {
   "cell_type": "code",
   "execution_count": 55,
   "metadata": {},
   "outputs": [
    {
     "ename": "IndexError",
     "evalue": "too many indices for array",
     "output_type": "error",
     "traceback": [
      "\u001b[1;31m---------------------------------------------------------------------------\u001b[0m",
      "\u001b[1;31mIndexError\u001b[0m                                Traceback (most recent call last)",
      "\u001b[1;32m<ipython-input-55-cadf90466879>\u001b[0m in \u001b[0;36m<module>\u001b[1;34m\u001b[0m\n\u001b[1;32m----> 1\u001b[1;33m \u001b[0mtime_gen\u001b[0m\u001b[1;33m[\u001b[0m\u001b[1;36m0\u001b[0m\u001b[1;33m]\u001b[0m\u001b[1;33m\u001b[0m\u001b[1;33m\u001b[0m\u001b[0m\n\u001b[0m",
      "\u001b[1;32m~\\Documents\\stepmania-note-generator\\training_scripts\\timeseries_feature_generator.py\u001b[0m in \u001b[0;36m__getitem__\u001b[1;34m(self, index)\u001b[0m\n\u001b[0;32m     51\u001b[0m         \u001b[1;32mif\u001b[0m \u001b[1;32mnot\u001b[0m \u001b[0mself\u001b[0m\u001b[1;33m.\u001b[0m\u001b[0mmulti\u001b[0m\u001b[1;33m:\u001b[0m\u001b[1;33m\u001b[0m\u001b[1;33m\u001b[0m\u001b[0m\n\u001b[0;32m     52\u001b[0m             \u001b[0mx\u001b[0m \u001b[1;33m=\u001b[0m \u001b[0mnp\u001b[0m\u001b[1;33m.\u001b[0m\u001b[0mexpand_dims\u001b[0m\u001b[1;33m(\u001b[0m\u001b[0mnp\u001b[0m\u001b[1;33m.\u001b[0m\u001b[0msqueeze\u001b[0m\u001b[1;33m(\u001b[0m\u001b[0mx\u001b[0m\u001b[1;33m)\u001b[0m\u001b[1;33m,\u001b[0m \u001b[0maxis\u001b[0m\u001b[1;33m=\u001b[0m\u001b[1;36m2\u001b[0m\u001b[1;33m)\u001b[0m\u001b[1;33m\u001b[0m\u001b[1;33m\u001b[0m\u001b[0m\n\u001b[1;32m---> 53\u001b[1;33m         \u001b[0my\u001b[0m \u001b[1;33m=\u001b[0m \u001b[0mself\u001b[0m\u001b[1;33m.\u001b[0m\u001b[0mgenerator\u001b[0m\u001b[1;33m[\u001b[0m\u001b[0mindex\u001b[0m\u001b[1;33m]\u001b[0m\u001b[1;33m[\u001b[0m\u001b[1;36m1\u001b[0m\u001b[1;33m]\u001b[0m\u001b[1;33m[\u001b[0m\u001b[1;33m:\u001b[0m\u001b[1;33m,\u001b[0m \u001b[1;36m0\u001b[0m\u001b[1;33m]\u001b[0m\u001b[1;33m\u001b[0m\u001b[1;33m\u001b[0m\u001b[0m\n\u001b[0m\u001b[0;32m     54\u001b[0m         \u001b[1;32mif\u001b[0m \u001b[0mself\u001b[0m\u001b[1;33m.\u001b[0m\u001b[0msample_weights\u001b[0m \u001b[1;32mand\u001b[0m \u001b[0mself\u001b[0m\u001b[1;33m.\u001b[0m\u001b[0mextra_features\u001b[0m\u001b[1;33m:\u001b[0m\u001b[1;33m\u001b[0m\u001b[1;33m\u001b[0m\u001b[0m\n\u001b[0;32m     55\u001b[0m             \u001b[0msample_weights\u001b[0m \u001b[1;33m=\u001b[0m \u001b[0mself\u001b[0m\u001b[1;33m.\u001b[0m\u001b[0mgenerator\u001b[0m\u001b[1;33m[\u001b[0m\u001b[0mindex\u001b[0m\u001b[1;33m]\u001b[0m\u001b[1;33m[\u001b[0m\u001b[1;36m1\u001b[0m\u001b[1;33m]\u001b[0m\u001b[1;33m[\u001b[0m\u001b[1;33m:\u001b[0m\u001b[1;33m,\u001b[0m \u001b[1;36m1\u001b[0m\u001b[1;33m]\u001b[0m\u001b[1;33m\u001b[0m\u001b[1;33m\u001b[0m\u001b[0m\n",
      "\u001b[1;31mIndexError\u001b[0m: too many indices for array"
     ]
    }
   ],
   "source": []
  },
  {
   "cell_type": "code",
   "execution_count": 44,
   "metadata": {},
   "outputs": [
    {
     "data": {
      "text/plain": [
       "(256, 2)"
      ]
     },
     "execution_count": 44,
     "metadata": {},
     "output_type": "execute_result"
    }
   ],
   "source": [
    "gen[0][1][:,1:3].shape"
   ]
  },
  {
   "cell_type": "code",
   "execution_count": 35,
   "metadata": {},
   "outputs": [
    {
     "data": {
      "text/plain": [
       "(256, 5, 80, 15, 3)"
      ]
     },
     "execution_count": 35,
     "metadata": {},
     "output_type": "execute_result"
    }
   ],
   "source": [
    "gen[0][0].shape"
   ]
  },
  {
   "cell_type": "code",
   "execution_count": 52,
   "metadata": {},
   "outputs": [],
   "source": [
    "def split_sequence(sequence, labels, n_steps):\n",
    "    X, y = list(), list()\n",
    "    for i in range(len(sequence)):\n",
    "        # find the end of this pattern\n",
    "        end_ix = i + n_steps\n",
    "        # check if we are beyond the sequence\n",
    "        if end_ix > len(sequence)-1:\n",
    "            break\n",
    "        # gather input and output parts of the pattern\n",
    "        seq_x = sequence[i:end_ix]\n",
    "        y.append(labels[i])\n",
    "        X.append(seq_x)\n",
    "    return np.array(X), np.array(y)"
   ]
  },
  {
   "cell_type": "code",
   "execution_count": 43,
   "metadata": {},
   "outputs": [
    {
     "data": {
      "text/plain": [
       "(20, 80, 15, 3)"
      ]
     },
     "execution_count": 43,
     "metadata": {},
     "output_type": "execute_result"
    }
   ],
   "source": [
    "first = f_used[0:20].reshape((20, 80, 15, 3))\n",
    "first.shape"
   ]
  },
  {
   "cell_type": "code",
   "execution_count": 53,
   "metadata": {},
   "outputs": [],
   "source": [
    "splits, ys = split_sequence(first, labels, 5)"
   ]
  },
  {
   "cell_type": "code",
   "execution_count": 54,
   "metadata": {},
   "outputs": [
    {
     "data": {
      "text/plain": [
       "((15, 5, 80, 15, 3), (15,))"
      ]
     },
     "execution_count": 54,
     "metadata": {},
     "output_type": "execute_result"
    }
   ],
   "source": [
    "splits.shape, ys.shape"
   ]
  },
  {
   "cell_type": "code",
   "execution_count": 55,
   "metadata": {},
   "outputs": [],
   "source": [
    "from tensorflow.keras.preprocessing.sequence import pad_sequences"
   ]
  },
  {
   "cell_type": "code",
   "execution_count": 77,
   "metadata": {},
   "outputs": [
    {
     "data": {
      "text/plain": [
       "(15, 5, 80, 15, 3)"
      ]
     },
     "execution_count": 77,
     "metadata": {},
     "output_type": "execute_result"
    }
   ],
   "source": [
    "pad_seq = pad_sequences(splits,dtype='float16', padding='post', truncating='pre', value=0)\n",
    "pad_seq.shape"
   ]
  },
  {
   "cell_type": "code",
   "execution_count": 72,
   "metadata": {},
   "outputs": [
    {
     "data": {
      "text/plain": [
       "(15, 5, 80, 15, 3)"
      ]
     },
     "execution_count": 72,
     "metadata": {},
     "output_type": "execute_result"
    }
   ],
   "source": [
    "pad_seq.shape"
   ]
  },
  {
   "cell_type": "code",
   "execution_count": 64,
   "metadata": {},
   "outputs": [
    {
     "data": {
      "text/plain": [
       "array([[[ 0.5347 ,  1.286  ,  1.052  ],\n",
       "        [ 1.019  ,  1.775  ,  2.58   ],\n",
       "        [ 1.019  ,  1.506  ,  2.182  ],\n",
       "        ...,\n",
       "        [ 1.138  ,  1.556  ,  1.821  ],\n",
       "        [ 0.7856 ,  1.158  ,  1.693  ],\n",
       "        [ 1.01   ,  1.427  ,  1.715  ]],\n",
       "\n",
       "       [[ 0.7666 ,  0.549  ,  1.075  ],\n",
       "        [ 0.8193 ,  1.126  ,  1.525  ],\n",
       "        [ 0.566  ,  1.173  ,  1.512  ],\n",
       "        ...,\n",
       "        [ 0.577  ,  0.551  ,  0.95   ],\n",
       "        [ 0.564  ,  0.856  ,  1.071  ],\n",
       "        [ 0.02481,  0.2073 ,  0.4988 ]],\n",
       "\n",
       "       [[ 0.0711 ,  0.1838 ,  0.4197 ],\n",
       "        [-0.05667, -0.0634 ,  0.2903 ],\n",
       "        [-0.9517 , -0.3203 ,  0.2352 ],\n",
       "        ...,\n",
       "        [-1.409  , -1.097  , -0.844  ],\n",
       "        [-1.226  , -0.9395 , -0.6025 ],\n",
       "        [-1.601  , -1.32   , -0.8765 ]],\n",
       "\n",
       "       ...,\n",
       "\n",
       "       [[-1.026  , -0.6836 , -0.1588 ],\n",
       "        [-1.425  , -1.133  , -0.442  ],\n",
       "        [-0.8604 , -0.6284 , -0.1064 ],\n",
       "        ...,\n",
       "        [-1.926  , -1.412  , -0.8105 ],\n",
       "        [-1.673  , -1.306  , -0.9653 ],\n",
       "        [-1.608  , -1.349  , -1.057  ]],\n",
       "\n",
       "       [[-1.009  , -0.906  , -0.712  ],\n",
       "        [-1.07   , -0.8633 , -0.5884 ],\n",
       "        [-0.343  , -0.0175 ,  0.3396 ],\n",
       "        ...,\n",
       "        [-2.453  , -2.31   , -1.597  ],\n",
       "        [-2.959  , -2.709  , -2.145  ],\n",
       "        [-2.87   , -2.55   , -2.072  ]],\n",
       "\n",
       "       [[-2.826  , -2.525  , -1.556  ],\n",
       "        [-2.95   , -2.775  , -2.318  ],\n",
       "        [-3.049  , -2.715  , -2.375  ],\n",
       "        ...,\n",
       "        [-5.074  , -4.754  , -3.957  ],\n",
       "        [-5.234  , -4.875  , -3.934  ],\n",
       "        [-5.35   , -4.793  , -4.11   ]]], dtype=float16)"
      ]
     },
     "execution_count": 64,
     "metadata": {},
     "output_type": "execute_result"
    }
   ],
   "source": [
    "pad_seq[19]"
   ]
  },
  {
   "cell_type": "code",
   "execution_count": 2,
   "metadata": {},
   "outputs": [],
   "source": [
    "import numpy as np\n",
    "\n",
    "n_seq = 2\n",
    "n_steps = 2\n",
    "n_features = 1\n",
    "\n",
    "x_input = np.array([60, 70, 80, 90])\n",
    "x_input = x_input.reshape((1, n_seq, n_steps, n_features))"
   ]
  },
  {
   "cell_type": "code",
   "execution_count": 3,
   "metadata": {},
   "outputs": [
    {
     "data": {
      "text/plain": [
       "array([[[[60],\n",
       "         [70]],\n",
       "\n",
       "        [[80],\n",
       "         [90]]]])"
      ]
     },
     "execution_count": 3,
     "metadata": {},
     "output_type": "execute_result"
    }
   ],
   "source": [
    "x_input"
   ]
  },
  {
   "cell_type": "code",
   "execution_count": 5,
   "metadata": {},
   "outputs": [],
   "source": [
    "\n",
    "def split_sequence(sequence, n_steps):\n",
    "\tX, y = list(), list()\n",
    "\tfor i in range(len(sequence)):\n",
    "\t\t# find the end of this pattern\n",
    "\t\tend_ix = i + n_steps\n",
    "\t\t# check if we are beyond the sequence\n",
    "\t\tif end_ix > len(sequence)-1:\n",
    "\t\t\tbreak\n",
    "\t\t# gather input and output parts of the pattern\n",
    "\t\tseq_x, seq_y = sequence[i:end_ix], sequence[end_ix]\n",
    "\t\tX.append(seq_x)\n",
    "\t\ty.append(seq_y)\n",
    "\treturn np.array(X), np.array(y)\n",
    "\n",
    "# define input sequence\n",
    "raw_seq = [10, 20, 30, 40, 50, 60, 70, 80, 90]\n",
    "# choose a number of time steps\n",
    "n_steps = 4\n",
    "# split into samples\n",
    "X, y = split_sequence(raw_seq, n_steps)"
   ]
  },
  {
   "cell_type": "code",
   "execution_count": 6,
   "metadata": {
    "scrolled": true
   },
   "outputs": [
    {
     "data": {
      "text/plain": [
       "array([[10, 20, 30, 40],\n",
       "       [20, 30, 40, 50],\n",
       "       [30, 40, 50, 60],\n",
       "       [40, 50, 60, 70],\n",
       "       [50, 60, 70, 80]])"
      ]
     },
     "execution_count": 6,
     "metadata": {},
     "output_type": "execute_result"
    }
   ],
   "source": [
    "X"
   ]
  },
  {
   "cell_type": "code",
   "execution_count": 16,
   "metadata": {},
   "outputs": [
    {
     "data": {
      "text/plain": [
       "(5, 4, 1, 1)"
      ]
     },
     "execution_count": 16,
     "metadata": {},
     "output_type": "execute_result"
    }
   ],
   "source": [
    "n_features = 1\n",
    "n_seq = 4\n",
    "n_steps = 1\n",
    "X_new = X.reshape((X.shape[0], n_seq, n_steps, n_features))\n",
    "X_new.shape"
   ]
  },
  {
   "cell_type": "code",
   "execution_count": 9,
   "metadata": {},
   "outputs": [
    {
     "data": {
      "text/plain": [
       "array([50, 60, 70, 80, 90])"
      ]
     },
     "execution_count": 9,
     "metadata": {},
     "output_type": "execute_result"
    }
   ],
   "source": [
    "y"
   ]
  },
  {
   "cell_type": "code",
   "execution_count": 8,
   "metadata": {},
   "outputs": [
    {
     "data": {
      "text/plain": [
       "array([[[[10],\n",
       "         [20]],\n",
       "\n",
       "        [[30],\n",
       "         [40]]],\n",
       "\n",
       "\n",
       "       [[[20],\n",
       "         [30]],\n",
       "\n",
       "        [[40],\n",
       "         [50]]],\n",
       "\n",
       "\n",
       "       [[[30],\n",
       "         [40]],\n",
       "\n",
       "        [[50],\n",
       "         [60]]],\n",
       "\n",
       "\n",
       "       [[[40],\n",
       "         [50]],\n",
       "\n",
       "        [[60],\n",
       "         [70]]],\n",
       "\n",
       "\n",
       "       [[[50],\n",
       "         [60]],\n",
       "\n",
       "        [[70],\n",
       "         [80]]]])"
      ]
     },
     "execution_count": 8,
     "metadata": {},
     "output_type": "execute_result"
    }
   ],
   "source": [
    "X_new"
   ]
  },
  {
   "cell_type": "code",
   "execution_count": 36,
   "metadata": {
    "scrolled": true
   },
   "outputs": [
    {
     "data": {
      "text/plain": [
       "(14887, 2048, 2)"
      ]
     },
     "execution_count": 36,
     "metadata": {},
     "output_type": "execute_result"
    }
   ],
   "source": [
    "fs = 0.01\n",
    "hopsize_t = 44100\n",
    "proc = FramedSignalProcessor(frame_size=2048, hopsize=int(fs*hopsize_t))\n",
    "frames = proc(\"testing_files/zombie_maker.wav\")\n",
    "frames.shape"
   ]
  },
  {
   "cell_type": "code",
   "execution_count": 38,
   "metadata": {},
   "outputs": [
    {
     "data": {
      "text/plain": [
       "(14887, 1024, 2)"
      ]
     },
     "execution_count": 38,
     "metadata": {},
     "output_type": "execute_result"
    }
   ],
   "source": [
    "fs = 0.01\n",
    "hopsize_t = 44100\n",
    "proc = FramedSignalProcessor(frame_size=1024, hopsize=int(fs*hopsize_t))\n",
    "frames = proc(\"testing_files/zombie_maker.wav\")\n",
    "frames.shape"
   ]
  },
  {
   "cell_type": "code",
   "execution_count": 49,
   "metadata": {},
   "outputs": [],
   "source": [
    "y, sr = librosa.load(\"testing_files/zombie_maker.wav\", sr=44100)"
   ]
  },
  {
   "cell_type": "code",
   "execution_count": 51,
   "metadata": {},
   "outputs": [
    {
     "data": {
      "text/plain": [
       "(466,)"
      ]
     },
     "execution_count": 51,
     "metadata": {},
     "output_type": "execute_result"
    }
   ],
   "source": [
    "onset_frames = librosa.onset.onset_detect(y=y, sr=sr, units=\"time\", hop_length=int(sr*0.01))\n",
    "onset_frames.shape"
   ]
  },
  {
   "cell_type": "code",
   "execution_count": 59,
   "metadata": {
    "scrolled": true
   },
   "outputs": [
    {
     "data": {
      "text/plain": [
       "array([  0.43,   0.65,   0.86,   1.08,   1.29,   1.51,   1.72,   1.93,\n",
       "         2.15,   2.36,   2.58,   2.79,   3.  ,   3.22,   3.43,   3.65,\n",
       "         3.86,   4.08,   4.29,   4.51,   4.72,   4.93,   5.15,   5.36,\n",
       "         5.58,   5.79,   6.  ,   6.22,   6.43,   6.65,   6.86,   7.08,\n",
       "         7.29,   7.51,   7.61,   7.72,   7.94,   8.15,   8.37,   8.58,\n",
       "         8.79,   9.  ,   9.22,   9.43,   9.65,   9.76,   9.86,  10.08,\n",
       "        10.19,  10.29,  10.51,  10.72,  10.94,  11.15,  11.36,  11.58,\n",
       "        11.79,  12.01,  12.23,  12.33,  12.4 ,  12.65,  12.76,  12.97,\n",
       "        13.18,  13.29,  13.5 ,  13.61,  13.72,  14.11,  14.15,  14.37,\n",
       "        14.58,  14.79,  15.01,  15.23,  15.44,  15.65,  15.87,  16.08,\n",
       "        16.29,  16.51,  16.72,  16.94,  17.15,  17.37,  17.58,  17.8 ,\n",
       "        18.01,  18.22,  18.43,  18.65,  18.87,  19.08,  19.29,  19.51,\n",
       "        19.72,  19.94,  20.15,  20.37,  20.58,  20.79,  21.01,  21.23,\n",
       "        21.44,  21.65,  21.86,  22.08,  22.29,  22.51,  22.72,  22.94,\n",
       "        23.15,  23.36,  23.58,  23.8 ,  24.01,  24.22,  24.44,  24.66,\n",
       "        24.87,  25.08,  25.29,  25.51,  25.72,  25.94,  26.01,  26.1 ,\n",
       "        26.15,  26.36,  26.48,  26.58,  26.68,  26.79,  26.9 ,  27.01,\n",
       "        27.22,  27.33,  27.42,  27.65,  27.75,  27.87,  28.3 ,  28.52,\n",
       "        28.72,  28.94,  29.06,  29.15,  29.58,  29.79,  30.  ,  30.3 ,\n",
       "        30.43,  30.86,  31.2 ,  31.3 ,  31.72,  31.94,  32.15,  32.58,\n",
       "        32.92,  33.21,  33.39,  33.44,  33.64,  33.74,  33.86,  34.18,\n",
       "        34.29,  34.71,  35.15,  35.48,  35.58,  36.01,  36.28,  36.45,\n",
       "        36.65,  36.87,  37.29,  37.72,  38.01,  38.15,  38.58,  38.8 ,\n",
       "        38.88,  39.01,  39.43,  39.87,  40.08,  40.19,  40.39,  40.51,\n",
       "        40.61,  40.72,  40.93,  41.04,  41.15,  41.46,  41.58,  41.8 ,\n",
       "        42.01,  42.23,  42.33,  42.44,  42.87,  43.3 ,  43.51,  43.72,\n",
       "        44.15,  44.58,  44.8 ,  45.01,  45.28,  45.33,  45.39,  45.44,\n",
       "        45.65,  45.76,  45.86,  46.08,  46.19,  46.3 ,  46.51,  46.62,\n",
       "        46.72,  46.83,  46.94,  47.05,  47.15,  47.37,  47.47,  47.58,\n",
       "        47.69,  47.8 ,  47.9 ,  48.01,  48.22,  48.33,  48.44,  48.76,\n",
       "        48.87,  49.08,  49.19,  49.3 ,  49.51,  49.72,  50.16,  50.37,\n",
       "        50.58,  50.73,  51.01,  51.33,  51.44,  51.76,  51.87,  52.19,\n",
       "        52.29,  52.51,  52.72,  52.83,  52.94,  53.15,  53.37,  53.47,\n",
       "        53.79,  53.9 ,  54.11,  54.22,  54.33,  54.44,  54.64,  54.75,\n",
       "        54.86,  55.18,  55.29,  55.51,  55.73,  55.94,  56.15,  56.37,\n",
       "        56.58,  56.79,  57.01,  57.22,  57.44,  57.65,  57.87,  58.08,\n",
       "        58.29,  58.51,  58.72,  58.94,  59.15,  59.36,  59.58,  59.8 ,\n",
       "        60.01,  60.22,  60.44,  60.65,  60.87,  61.08,  61.3 ,  61.51,\n",
       "        61.72,  61.94,  62.69,  63.01,  63.25,  63.33,  63.57,  63.62,\n",
       "        63.67,  63.84,  63.89,  63.95,  64.01,  64.13,  64.3 ,  64.72,\n",
       "        64.95,  65.04,  65.12,  65.21,  65.31,  65.4 ,  65.51,  65.61,\n",
       "        65.71,  66.23,  66.44,  66.68,  66.83,  66.99,  67.15,  69.01,\n",
       "        69.77,  69.87,  70.61,  70.72,  72.33,  72.44,  73.19,  73.3 ,\n",
       "        74.16,  75.46,  75.88,  76.25,  76.55,  78.01,  78.88,  79.24,\n",
       "        79.73,  80.51,  83.16,  83.59,  84.87,  85.73,  86.16,  86.59,\n",
       "        87.45,  87.88,  88.73,  89.16,  90.02,  90.68,  90.9 ,  92.05,\n",
       "        93.14,  94.96,  95.16,  95.39,  96.45,  98.71,  99.17, 101.17,\n",
       "       102.29, 102.45, 102.73, 102.87, 103.21, 104.15, 105.02, 105.23,\n",
       "       105.87, 106.63, 107.58, 108.45, 108.66, 109.3 , 111.01, 111.88,\n",
       "       112.09, 112.73, 113.49, 114.44, 115.3 , 115.51, 116.16, 117.01,\n",
       "       117.87, 119.16, 119.58, 121.3 , 123.01, 124.72, 125.15, 125.36,\n",
       "       125.8 , 126.01, 126.44, 127.29, 128.15, 128.58, 128.79, 129.01,\n",
       "       129.44, 129.86, 130.3 , 130.51, 131.15, 131.58, 132.01, 132.27,\n",
       "       132.45, 132.65, 132.86, 133.1 , 133.29, 133.72, 134.58, 134.8 ,\n",
       "       135.01, 135.25, 135.44, 135.66, 135.76, 135.86, 135.91, 136.08,\n",
       "       136.29, 136.72, 137.15, 137.58, 138.01, 138.43, 138.87, 139.13,\n",
       "       139.3 , 139.51, 139.72, 139.96, 140.15, 140.58, 141.43, 141.65,\n",
       "       141.86, 142.3 , 142.93, 143.04, 143.25, 143.47, 143.58, 144.  ,\n",
       "       144.39, 144.43])"
      ]
     },
     "execution_count": 59,
     "metadata": {},
     "output_type": "execute_result"
    }
   ],
   "source": [
    "onset_frames"
   ]
  },
  {
   "cell_type": "code",
   "execution_count": 53,
   "metadata": {},
   "outputs": [],
   "source": [
    "import madmom\n",
    "proc = madmom.features.beats.DBNBeatTrackingProcessor(fps=100)\n",
    "act = madmom.features.beats.RNNBeatProcessor()(\"testing_files/zombie_maker.wav\")\n"
   ]
  },
  {
   "cell_type": "code",
   "execution_count": 65,
   "metadata": {},
   "outputs": [],
   "source": [
    "proc = madmom.features.beats.DBNBeatTrackingProcessor(fps=100)\n"
   ]
  },
  {
   "cell_type": "code",
   "execution_count": 64,
   "metadata": {},
   "outputs": [],
   "source": [
    "act = madmom.features.beats.RNNBeatProcessor()(\"testing_files/zombie_maker.wav\")\n"
   ]
  },
  {
   "cell_type": "code",
   "execution_count": 54,
   "metadata": {},
   "outputs": [],
   "source": [
    "beat_times = proc(act)"
   ]
  },
  {
   "cell_type": "code",
   "execution_count": 66,
   "metadata": {
    "scrolled": true
   },
   "outputs": [
    {
     "data": {
      "text/plain": [
       "(347,)"
      ]
     },
     "execution_count": 66,
     "metadata": {},
     "output_type": "execute_result"
    }
   ],
   "source": [
    "beat_times.shape"
   ]
  },
  {
   "cell_type": "code",
   "execution_count": 60,
   "metadata": {},
   "outputs": [],
   "source": [
    "from common.audio_preprocessing import get_madmom_log_mels"
   ]
  },
  {
   "cell_type": "code",
   "execution_count": 61,
   "metadata": {},
   "outputs": [],
   "source": [
    "mfcc = get_madmom_log_mels(\"testing_files/zombie_maker.wav\", 44100, 0.01, 1)"
   ]
  },
  {
   "cell_type": "code",
   "execution_count": 63,
   "metadata": {},
   "outputs": [
    {
     "data": {
      "text/plain": [
       "(14887, 1200)"
      ]
     },
     "execution_count": 63,
     "metadata": {},
     "output_type": "execute_result"
    }
   ],
   "source": [
    "mfcc.shape"
   ]
  },
  {
   "cell_type": "code",
   "execution_count": 67,
   "metadata": {},
   "outputs": [
    {
     "data": {
      "text/plain": [
       "(466,)"
      ]
     },
     "execution_count": 67,
     "metadata": {},
     "output_type": "execute_result"
    }
   ],
   "source": [
    "onset_frames.shape"
   ]
  },
  {
   "cell_type": "code",
   "execution_count": 69,
   "metadata": {},
   "outputs": [
    {
     "data": {
      "text/plain": [
       "44100"
      ]
     },
     "execution_count": 69,
     "metadata": {},
     "output_type": "execute_result"
    }
   ],
   "source": [
    "hopsize_t"
   ]
  },
  {
   "cell_type": "code",
   "execution_count": 2,
   "metadata": {},
   "outputs": [
    {
     "data": {
      "text/plain": [
       "(143.5546875,\n",
       " array([  11,   28,   46,   64,   82,  100,  118,  136,  153,  171,  189,\n",
       "         207,  225,  242,  260,  278,  296,  314,  332,  349,  367,  385,\n",
       "         403,  421,  439,  456,  474,  492,  510,  527,  545,  563,  581,\n",
       "         599,  617,  634,  652,  670,  688,  706,  724,  742,  759,  777,\n",
       "         795,  812,  830,  848,  866,  884,  902,  919,  937,  955,  973,\n",
       "         991, 1009, 1027, 1044, 1062, 1080, 1098, 1116, 1134, 1151, 1169,\n",
       "        1187, 1205, 1223, 1240, 1258, 1276, 1294, 1312, 1329, 1347, 1365,\n",
       "        1383, 1401, 1419, 1436, 1454, 1472, 1490, 1508, 1525, 1543, 1561,\n",
       "        1579, 1597, 1615, 1633, 1650, 1668, 1686, 1704, 1722, 1740, 1757,\n",
       "        1775, 1793, 1811, 1829, 1847, 1864, 1882, 1900, 1918, 1936, 1953,\n",
       "        1971, 1989, 2007, 2025, 2042, 2060, 2078, 2096, 2114, 2132, 2149,\n",
       "        2167, 2185, 2203, 2221, 2238, 2256, 2274, 2292, 2310, 2327, 2345,\n",
       "        2363, 2381, 2399, 2417, 2435, 2453, 2470, 2488, 2506, 2524, 2541,\n",
       "        2559, 2577, 2595, 2612, 2630, 2648, 2666, 2684, 2702, 2720, 2738,\n",
       "        2755, 2773, 2791, 2809, 2827, 2844, 2862, 2880, 2898, 2916, 2934,\n",
       "        2951, 2969, 2987, 3005, 3023, 3040, 3058, 3076, 3094, 3111, 3129,\n",
       "        3147, 3165, 3183, 3201, 3219, 3237, 3254, 3272, 3290, 3308, 3325,\n",
       "        3343, 3361, 3379, 3397, 3415, 3433, 3450, 3468, 3486, 3504, 3521,\n",
       "        3539, 3557, 3575, 3592, 3610, 3628, 3646, 3664, 3682, 3699, 3717,\n",
       "        3735, 3753, 3771, 3788, 3806, 3824, 3842, 3860, 3877, 3896, 3913,\n",
       "        3931, 3949, 3967, 3984, 4002, 4020, 4038, 4056, 4074, 4091, 4109,\n",
       "        4127, 4145, 4163]))"
      ]
     },
     "execution_count": 2,
     "metadata": {},
     "output_type": "execute_result"
    }
   ],
   "source": [
    "import librosa\n",
    "y, sr = librosa.load(\"C:/Users/mrchr/Documents/stepcovnet/data/wavs/yubisaki_chokoreto.wav\")\n",
    "librosa.beat.beat_track(y=y, sr=sr)"
   ]
  },
  {
   "cell_type": "code",
   "execution_count": null,
   "metadata": {},
   "outputs": [],
   "source": []
  }
 ],
 "metadata": {
  "kernelspec": {
   "display_name": "Python 3",
   "language": "python",
   "name": "python3"
  },
  "language_info": {
   "codemirror_mode": {
    "name": "ipython",
    "version": 3
   },
   "file_extension": ".py",
   "mimetype": "text/x-python",
   "name": "python",
   "nbconvert_exporter": "python",
   "pygments_lexer": "ipython3",
   "version": "3.6.9"
  }
 },
 "nbformat": 4,
 "nbformat_minor": 2
}
