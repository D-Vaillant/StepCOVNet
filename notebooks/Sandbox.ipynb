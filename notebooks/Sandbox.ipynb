{
 "cells": [
  {
   "cell_type": "code",
   "execution_count": 28,
   "metadata": {},
   "outputs": [],
   "source": [
    "from librosa.onset import onset_detect\n",
    "import librosa\n",
    "from madmom.audio.signal import SignalProcessor, FramedSignalProcessor\n",
    "from madmom.audio.stft import ShortTimeFourierTransformProcessor\n",
    "from madmom.audio.filters import MelFilterbank\n",
    "from madmom.audio.spectrogram import (FilteredSpectrogramProcessor,\n",
    "                                      LogarithmicSpectrogramProcessor)"
   ]
  },
  {
   "cell_type": "code",
   "execution_count": 1,
   "metadata": {},
   "outputs": [],
   "source": [
    "import numpy as np\n",
    "with open(\"training_data/dataset_features.npz\", 'rb') as f:\n",
    "    simple_f = np.load(f)['features']\n",
    "labels = np.ones((len(simple_f),))\n",
    "\n",
    "with open(\"training_data/sample_weights.npz\", 'rb') as f:\n",
    "    s_w = np.load(f)['sample_weights']\n",
    "    \n",
    "with open(\"training_data/extra_features.npz\", 'rb') as f:\n",
    "    e_f = np.load(f)['sample_weights']\n",
    "    \n",
    "import joblib\n",
    "scalers = []\n",
    "\n",
    "with open(\"training_data/scaler.pkl\", 'rb') as f:\n",
    "    scalers.append(joblib.load(f))"
   ]
  },
  {
   "cell_type": "code",
   "execution_count": 2,
   "metadata": {},
   "outputs": [],
   "source": [
    "from training_scripts.timeseries_feature_generator import TimeFeatureGenerator\n",
    "time_gen = TimeFeatureGenerator(simple_f,\n",
    "                                np.ones((len(simple_f),)),\n",
    "                                5,\n",
    "                                256,\n",
    "                                sample_weights=s_w,\n",
    "                                extra_features=e_f,\n",
    "                                scalers=scalers)"
   ]
  },
  {
   "cell_type": "code",
   "execution_count": 3,
   "metadata": {},
   "outputs": [
    {
     "data": {
      "text/plain": [
       "100"
      ]
     },
     "execution_count": 3,
     "metadata": {},
     "output_type": "execute_result"
    }
   ],
   "source": [
    "len(time_gen)"
   ]
  },
  {
   "cell_type": "code",
   "execution_count": 6,
   "metadata": {},
   "outputs": [
    {
     "data": {
      "text/plain": [
       "array([1., 1., 1., 1., 1., 1., 1., 1., 1., 1., 1., 1., 1., 1., 1., 1., 1.,\n",
       "       1., 1., 1., 1., 1., 1., 1., 1., 1., 1., 1., 1., 1., 1., 1., 1., 1.,\n",
       "       1., 1., 1., 1., 1., 1., 1., 1., 1., 1., 1., 1., 1., 1., 1., 1., 1.,\n",
       "       1., 1., 1., 1., 1., 1., 1., 1., 1., 1., 1., 1., 1., 1., 1., 1., 1.,\n",
       "       1., 1., 1., 1., 1., 1., 1., 1., 1., 1., 1., 1., 1., 1., 1., 1., 1.,\n",
       "       1., 1., 1., 1., 1., 1., 1., 1., 1., 1., 1., 1., 1., 1., 1., 1., 1.,\n",
       "       1., 1., 1., 1., 1., 1., 1., 1., 1., 1., 1., 1., 1., 1., 1., 1., 1.,\n",
       "       1., 1., 1., 1., 1., 1., 1., 1., 1., 1., 1., 1., 1., 1., 1., 1., 1.,\n",
       "       1., 1., 1., 1., 1., 1., 1., 1., 1., 1., 1., 1., 1., 1., 1., 1., 1.,\n",
       "       1., 1., 1., 1., 1., 1., 1., 1., 1., 1., 1., 1., 1., 1., 1., 1., 1.,\n",
       "       1., 1., 1., 1., 1., 1., 1., 1., 1., 1., 1., 1., 1., 1., 1., 1., 1.,\n",
       "       1., 1., 1., 1., 1., 1., 1., 1., 1., 1., 1., 1., 1., 1., 1., 1., 1.,\n",
       "       1., 1., 1., 1., 1., 1., 1., 1., 1., 1., 1., 1., 1., 1., 1., 1., 1.,\n",
       "       1., 1., 1., 1., 1., 1., 1., 1., 1., 1., 1., 1., 1., 1., 1., 1., 1.,\n",
       "       1., 1., 1., 1., 1., 1., 1., 1., 1., 1., 1., 1., 1., 1., 1., 1., 1.,\n",
       "       1.])"
      ]
     },
     "execution_count": 6,
     "metadata": {},
     "output_type": "execute_result"
    }
   ],
   "source": [
    "time_gen[0][2] "
   ]
  },
  {
   "cell_type": "code",
   "execution_count": 1,
   "metadata": {},
   "outputs": [],
   "source": [
    "import numpy as np\n",
    "\n",
    "limit = 1000000\n",
    "\n",
    "with open(\"training_data/multi_dataset_features.npz\", 'rb') as f:\n",
    "    f_used = np.load(f)['features'][:limit]\n",
    "    \n",
    "with open(\"training_data/multi_labels.npz\", 'rb') as f:\n",
    "    labels = np.load(f)['labels'][:limit]\n",
    "    \n",
    "with open(\"training_data/multi_sample_weights.npz\", 'rb') as f:\n",
    "    s_w = np.load(f)['sample_weights'][:limit]\n",
    "    \n",
    "with open(\"training_data/multi_extra_features.npz\", 'rb') as f:\n",
    "    e_f = np.load(f)['extra_features'][:limit]\n",
    "    \n",
    "import joblib\n",
    "scalers = []\n",
    "\n",
    "with open(\"training_data/multi_scaler_low.pkl\", \"rb\") as file:\n",
    "    scalers.append(joblib.load(file))\n",
    "with open(\"training_data/multi_scaler_mid.pkl\", \"rb\") as file:\n",
    "    scalers.append(joblib.load(file))\n",
    "with open(\"training_data/multi_scaler_high.pkl\", \"rb\") as file:\n",
    "    scalers.append(joblib.load(file))"
   ]
  },
  {
   "cell_type": "code",
   "execution_count": 2,
   "metadata": {},
   "outputs": [],
   "source": [
    "from training_scripts.timeseries_feature_generator import TimeFeatureGenerator\n",
    "multi_time_gen = TimeFeatureGenerator(f_used,\n",
    "                                labels,\n",
    "                                5,\n",
    "                                256,\n",
    "                                sample_weights=s_w,\n",
    "                                extra_features=e_f,\n",
    "                                scalers=scalers,\n",
    "                                     stride=2)"
   ]
  },
  {
   "cell_type": "code",
   "execution_count": 3,
   "metadata": {},
   "outputs": [
    {
     "data": {
      "text/plain": [
       "3907"
      ]
     },
     "execution_count": 3,
     "metadata": {},
     "output_type": "execute_result"
    }
   ],
   "source": [
    "len(multi_time_gen)"
   ]
  },
  {
   "cell_type": "code",
   "execution_count": 9,
   "metadata": {},
   "outputs": [
    {
     "data": {
      "text/plain": [
       "['other_preprocessed_multi_generator.pkl']"
      ]
     },
     "execution_count": 9,
     "metadata": {},
     "output_type": "execute_result"
    }
   ],
   "source": [
    "joblib.dump(multi_time_gen, \"other_preprocessed_multi_generator.pkl\")"
   ]
  },
  {
   "cell_type": "code",
   "execution_count": 25,
   "metadata": {},
   "outputs": [
    {
     "data": {
      "text/plain": [
       "7813"
      ]
     },
     "execution_count": 25,
     "metadata": {},
     "output_type": "execute_result"
    }
   ],
   "source": [
    "len(multi_time_gen[])"
   ]
  },
  {
   "cell_type": "code",
   "execution_count": 23,
   "metadata": {},
   "outputs": [
    {
     "data": {
      "text/plain": [
       "array([0., 0., 0., 0., 0., 0., 0., 0., 0., 0., 0., 0., 0., 0., 0., 0., 0.,\n",
       "       0., 0., 0., 0., 0., 0., 0., 0., 0., 0., 0., 0., 0., 0., 0., 0., 0.,\n",
       "       0., 0., 0., 0., 0., 0., 0., 0., 0., 0., 0., 0., 0., 0., 0., 0., 0.,\n",
       "       0., 0., 0., 0., 0., 0., 0., 0., 0., 0., 0., 0., 0., 0., 0., 0., 0.,\n",
       "       0., 0., 0., 0., 0., 0., 0., 0., 0., 0., 0., 0., 0., 0., 0., 0., 0.,\n",
       "       0., 0., 0., 0., 0., 0., 0., 0., 0., 0., 0., 0., 0., 0., 0., 0., 0.,\n",
       "       0., 0., 0., 0., 0., 0., 0., 0., 0., 0., 0., 0., 0., 0., 0., 0., 0.,\n",
       "       0., 0., 0., 0., 0., 0., 0., 0., 0., 0., 0., 0., 0., 0., 0., 0., 0.,\n",
       "       0., 0., 0., 0., 0., 0., 0., 0., 0., 0., 0., 0., 0., 0., 0., 0., 0.,\n",
       "       0., 0., 0., 0., 0., 0., 0., 0., 0., 0., 0., 0., 0., 0., 0., 0., 0.,\n",
       "       0., 0., 0., 0., 0., 0., 0., 0., 0., 0., 0., 0., 0., 0., 0., 0., 0.,\n",
       "       0., 0., 0., 0., 0., 0., 0., 0., 0., 0., 0., 0., 0., 0., 0., 0., 0.,\n",
       "       0., 0., 0., 0., 0., 0., 0., 0., 0., 0., 0., 0., 0., 0., 0., 0., 0.,\n",
       "       0., 0., 0., 0., 0., 0., 0., 0., 0., 0., 0., 0., 0., 0., 0., 0., 0.,\n",
       "       0., 0., 0., 0., 0., 0., 0., 0., 0., 0., 0., 0., 0., 0., 0., 0., 0.,\n",
       "       0.], dtype=float16)"
      ]
     },
     "execution_count": 23,
     "metadata": {},
     "output_type": "execute_result"
    }
   ],
   "source": [
    "multi_time_gen[0][1]"
   ]
  },
  {
   "cell_type": "code",
   "execution_count": 8,
   "metadata": {},
   "outputs": [],
   "source": [
    "from tensorflow.keras.preprocessing.sequence import TimeseriesGenerator"
   ]
  },
  {
   "cell_type": "code",
   "execution_count": 17,
   "metadata": {},
   "outputs": [],
   "source": [
    "gen = TimeseriesGenerator(snips, np.ones((snips.shape[0],)), 2, batch_size=10)"
   ]
  },
  {
   "cell_type": "code",
   "execution_count": 18,
   "metadata": {},
   "outputs": [
    {
     "data": {
      "text/plain": [
       "(10, 2, 80, 15, 3)"
      ]
     },
     "execution_count": 18,
     "metadata": {},
     "output_type": "execute_result"
    }
   ],
   "source": [
    "gen[0][0].shape"
   ]
  },
  {
   "cell_type": "code",
   "execution_count": 26,
   "metadata": {},
   "outputs": [],
   "source": [
    "reshaped = f_used.reshape((f_used.shape[0], 80, 15, 3))"
   ]
  },
  {
   "cell_type": "code",
   "execution_count": 27,
   "metadata": {},
   "outputs": [
    {
     "data": {
      "text/plain": [
       "(2000000, 80, 15, 3)"
      ]
     },
     "execution_count": 27,
     "metadata": {},
     "output_type": "execute_result"
    }
   ],
   "source": [
    "reshaped.shape"
   ]
  },
  {
   "cell_type": "code",
   "execution_count": 28,
   "metadata": {},
   "outputs": [],
   "source": [
    "snip = reshaped[0:256]"
   ]
  },
  {
   "cell_type": "code",
   "execution_count": 29,
   "metadata": {},
   "outputs": [
    {
     "data": {
      "text/plain": [
       "(256, 80, 15, 3)"
      ]
     },
     "execution_count": 29,
     "metadata": {},
     "output_type": "execute_result"
    }
   ],
   "source": [
    "snip.shape"
   ]
  },
  {
   "cell_type": "code",
   "execution_count": 33,
   "metadata": {},
   "outputs": [],
   "source": [
    "from tensorflow.keras.preprocessing.sequence import TimeseriesGenerator\n",
    "gen = TimeseriesGenerator(snip, np.ones((snip.shape[0],5)), 5, batch_size=1)"
   ]
  },
  {
   "cell_type": "code",
   "execution_count": 36,
   "metadata": {},
   "outputs": [
    {
     "data": {
      "text/plain": [
       "(1, 5, 80, 15, 3)"
      ]
     },
     "execution_count": 36,
     "metadata": {},
     "output_type": "execute_result"
    }
   ],
   "source": [
    "gen[0][0].shape"
   ]
  },
  {
   "cell_type": "code",
   "execution_count": 34,
   "metadata": {},
   "outputs": [
    {
     "data": {
      "text/plain": [
       "251"
      ]
     },
     "execution_count": 34,
     "metadata": {},
     "output_type": "execute_result"
    }
   ],
   "source": [
    "len(gen)"
   ]
  },
  {
   "cell_type": "code",
   "execution_count": 31,
   "metadata": {},
   "outputs": [
    {
     "data": {
      "text/plain": [
       "7813"
      ]
     },
     "execution_count": 31,
     "metadata": {},
     "output_type": "execute_result"
    }
   ],
   "source": [
    "len(gen) 30 * 3 + 60 * 5\n",
    "         100ish + 150ish\n",
    "    \n"
   ]
  },
  {
   "cell_type": "code",
   "execution_count": 65,
   "metadata": {},
   "outputs": [],
   "source": []
  },
  {
   "cell_type": "code",
   "execution_count": 3,
   "metadata": {},
   "outputs": [
    {
     "name": "stdout",
     "output_type": "stream",
     "text": [
      "<tensorflow.python.keras.preprocessing.sequence.TimeseriesGenerator object at 0x000001757F6D7278>\n"
     ]
    }
   ],
   "source": []
  },
  {
   "cell_type": "code",
   "execution_count": null,
   "metadata": {},
   "outputs": [],
   "source": []
  },
  {
   "cell_type": "code",
   "execution_count": 55,
   "metadata": {},
   "outputs": [
    {
     "ename": "IndexError",
     "evalue": "too many indices for array",
     "output_type": "error",
     "traceback": [
      "\u001b[1;31m---------------------------------------------------------------------------\u001b[0m",
      "\u001b[1;31mIndexError\u001b[0m                                Traceback (most recent call last)",
      "\u001b[1;32m<ipython-input-55-cadf90466879>\u001b[0m in \u001b[0;36m<module>\u001b[1;34m\u001b[0m\n\u001b[1;32m----> 1\u001b[1;33m \u001b[0mtime_gen\u001b[0m\u001b[1;33m[\u001b[0m\u001b[1;36m0\u001b[0m\u001b[1;33m]\u001b[0m\u001b[1;33m\u001b[0m\u001b[1;33m\u001b[0m\u001b[0m\n\u001b[0m",
      "\u001b[1;32m~\\Documents\\stepmania-note-generator\\training_scripts\\timeseries_feature_generator.py\u001b[0m in \u001b[0;36m__getitem__\u001b[1;34m(self, index)\u001b[0m\n\u001b[0;32m     51\u001b[0m         \u001b[1;32mif\u001b[0m \u001b[1;32mnot\u001b[0m \u001b[0mself\u001b[0m\u001b[1;33m.\u001b[0m\u001b[0mmulti\u001b[0m\u001b[1;33m:\u001b[0m\u001b[1;33m\u001b[0m\u001b[1;33m\u001b[0m\u001b[0m\n\u001b[0;32m     52\u001b[0m             \u001b[0mx\u001b[0m \u001b[1;33m=\u001b[0m \u001b[0mnp\u001b[0m\u001b[1;33m.\u001b[0m\u001b[0mexpand_dims\u001b[0m\u001b[1;33m(\u001b[0m\u001b[0mnp\u001b[0m\u001b[1;33m.\u001b[0m\u001b[0msqueeze\u001b[0m\u001b[1;33m(\u001b[0m\u001b[0mx\u001b[0m\u001b[1;33m)\u001b[0m\u001b[1;33m,\u001b[0m \u001b[0maxis\u001b[0m\u001b[1;33m=\u001b[0m\u001b[1;36m2\u001b[0m\u001b[1;33m)\u001b[0m\u001b[1;33m\u001b[0m\u001b[1;33m\u001b[0m\u001b[0m\n\u001b[1;32m---> 53\u001b[1;33m         \u001b[0my\u001b[0m \u001b[1;33m=\u001b[0m \u001b[0mself\u001b[0m\u001b[1;33m.\u001b[0m\u001b[0mgenerator\u001b[0m\u001b[1;33m[\u001b[0m\u001b[0mindex\u001b[0m\u001b[1;33m]\u001b[0m\u001b[1;33m[\u001b[0m\u001b[1;36m1\u001b[0m\u001b[1;33m]\u001b[0m\u001b[1;33m[\u001b[0m\u001b[1;33m:\u001b[0m\u001b[1;33m,\u001b[0m \u001b[1;36m0\u001b[0m\u001b[1;33m]\u001b[0m\u001b[1;33m\u001b[0m\u001b[1;33m\u001b[0m\u001b[0m\n\u001b[0m\u001b[0;32m     54\u001b[0m         \u001b[1;32mif\u001b[0m \u001b[0mself\u001b[0m\u001b[1;33m.\u001b[0m\u001b[0msample_weights\u001b[0m \u001b[1;32mand\u001b[0m \u001b[0mself\u001b[0m\u001b[1;33m.\u001b[0m\u001b[0mextra_features\u001b[0m\u001b[1;33m:\u001b[0m\u001b[1;33m\u001b[0m\u001b[1;33m\u001b[0m\u001b[0m\n\u001b[0;32m     55\u001b[0m             \u001b[0msample_weights\u001b[0m \u001b[1;33m=\u001b[0m \u001b[0mself\u001b[0m\u001b[1;33m.\u001b[0m\u001b[0mgenerator\u001b[0m\u001b[1;33m[\u001b[0m\u001b[0mindex\u001b[0m\u001b[1;33m]\u001b[0m\u001b[1;33m[\u001b[0m\u001b[1;36m1\u001b[0m\u001b[1;33m]\u001b[0m\u001b[1;33m[\u001b[0m\u001b[1;33m:\u001b[0m\u001b[1;33m,\u001b[0m \u001b[1;36m1\u001b[0m\u001b[1;33m]\u001b[0m\u001b[1;33m\u001b[0m\u001b[1;33m\u001b[0m\u001b[0m\n",
      "\u001b[1;31mIndexError\u001b[0m: too many indices for array"
     ]
    }
   ],
   "source": []
  },
  {
   "cell_type": "code",
   "execution_count": 44,
   "metadata": {},
   "outputs": [
    {
     "data": {
      "text/plain": [
       "(256, 2)"
      ]
     },
     "execution_count": 44,
     "metadata": {},
     "output_type": "execute_result"
    }
   ],
   "source": [
    "gen[0][1][:,1:3].shape"
   ]
  },
  {
   "cell_type": "code",
   "execution_count": 35,
   "metadata": {},
   "outputs": [
    {
     "data": {
      "text/plain": [
       "(256, 5, 80, 15, 3)"
      ]
     },
     "execution_count": 35,
     "metadata": {},
     "output_type": "execute_result"
    }
   ],
   "source": [
    "gen[0][0].shape"
   ]
  },
  {
   "cell_type": "code",
   "execution_count": 52,
   "metadata": {},
   "outputs": [],
   "source": [
    "def split_sequence(sequence, labels, n_steps):\n",
    "    X, y = list(), list()\n",
    "    for i in range(len(sequence)):\n",
    "        # find the end of this pattern\n",
    "        end_ix = i + n_steps\n",
    "        # check if we are beyond the sequence\n",
    "        if end_ix > len(sequence)-1:\n",
    "            break\n",
    "        # gather input and output parts of the pattern\n",
    "        seq_x = sequence[i:end_ix]\n",
    "        y.append(labels[i])\n",
    "        X.append(seq_x)\n",
    "    return np.array(X), np.array(y)"
   ]
  },
  {
   "cell_type": "code",
   "execution_count": 43,
   "metadata": {},
   "outputs": [
    {
     "data": {
      "text/plain": [
       "(20, 80, 15, 3)"
      ]
     },
     "execution_count": 43,
     "metadata": {},
     "output_type": "execute_result"
    }
   ],
   "source": [
    "first = f_used[0:20].reshape((20, 80, 15, 3))\n",
    "first.shape"
   ]
  },
  {
   "cell_type": "code",
   "execution_count": 53,
   "metadata": {},
   "outputs": [],
   "source": [
    "splits, ys = split_sequence(first, labels, 5)"
   ]
  },
  {
   "cell_type": "code",
   "execution_count": 54,
   "metadata": {},
   "outputs": [
    {
     "data": {
      "text/plain": [
       "((15, 5, 80, 15, 3), (15,))"
      ]
     },
     "execution_count": 54,
     "metadata": {},
     "output_type": "execute_result"
    }
   ],
   "source": [
    "splits.shape, ys.shape"
   ]
  },
  {
   "cell_type": "code",
   "execution_count": 55,
   "metadata": {},
   "outputs": [],
   "source": [
    "from tensorflow.keras.preprocessing.sequence import pad_sequences"
   ]
  },
  {
   "cell_type": "code",
   "execution_count": 77,
   "metadata": {},
   "outputs": [
    {
     "data": {
      "text/plain": [
       "(15, 5, 80, 15, 3)"
      ]
     },
     "execution_count": 77,
     "metadata": {},
     "output_type": "execute_result"
    }
   ],
   "source": [
    "pad_seq = pad_sequences(splits,dtype='float16', padding='post', truncating='pre', value=0)\n",
    "pad_seq.shape"
   ]
  },
  {
   "cell_type": "code",
   "execution_count": 72,
   "metadata": {},
   "outputs": [
    {
     "data": {
      "text/plain": [
       "(15, 5, 80, 15, 3)"
      ]
     },
     "execution_count": 72,
     "metadata": {},
     "output_type": "execute_result"
    }
   ],
   "source": [
    "pad_seq.shape"
   ]
  },
  {
   "cell_type": "code",
   "execution_count": 64,
   "metadata": {},
   "outputs": [
    {
     "data": {
      "text/plain": [
       "array([[[ 0.5347 ,  1.286  ,  1.052  ],\n",
       "        [ 1.019  ,  1.775  ,  2.58   ],\n",
       "        [ 1.019  ,  1.506  ,  2.182  ],\n",
       "        ...,\n",
       "        [ 1.138  ,  1.556  ,  1.821  ],\n",
       "        [ 0.7856 ,  1.158  ,  1.693  ],\n",
       "        [ 1.01   ,  1.427  ,  1.715  ]],\n",
       "\n",
       "       [[ 0.7666 ,  0.549  ,  1.075  ],\n",
       "        [ 0.8193 ,  1.126  ,  1.525  ],\n",
       "        [ 0.566  ,  1.173  ,  1.512  ],\n",
       "        ...,\n",
       "        [ 0.577  ,  0.551  ,  0.95   ],\n",
       "        [ 0.564  ,  0.856  ,  1.071  ],\n",
       "        [ 0.02481,  0.2073 ,  0.4988 ]],\n",
       "\n",
       "       [[ 0.0711 ,  0.1838 ,  0.4197 ],\n",
       "        [-0.05667, -0.0634 ,  0.2903 ],\n",
       "        [-0.9517 , -0.3203 ,  0.2352 ],\n",
       "        ...,\n",
       "        [-1.409  , -1.097  , -0.844  ],\n",
       "        [-1.226  , -0.9395 , -0.6025 ],\n",
       "        [-1.601  , -1.32   , -0.8765 ]],\n",
       "\n",
       "       ...,\n",
       "\n",
       "       [[-1.026  , -0.6836 , -0.1588 ],\n",
       "        [-1.425  , -1.133  , -0.442  ],\n",
       "        [-0.8604 , -0.6284 , -0.1064 ],\n",
       "        ...,\n",
       "        [-1.926  , -1.412  , -0.8105 ],\n",
       "        [-1.673  , -1.306  , -0.9653 ],\n",
       "        [-1.608  , -1.349  , -1.057  ]],\n",
       "\n",
       "       [[-1.009  , -0.906  , -0.712  ],\n",
       "        [-1.07   , -0.8633 , -0.5884 ],\n",
       "        [-0.343  , -0.0175 ,  0.3396 ],\n",
       "        ...,\n",
       "        [-2.453  , -2.31   , -1.597  ],\n",
       "        [-2.959  , -2.709  , -2.145  ],\n",
       "        [-2.87   , -2.55   , -2.072  ]],\n",
       "\n",
       "       [[-2.826  , -2.525  , -1.556  ],\n",
       "        [-2.95   , -2.775  , -2.318  ],\n",
       "        [-3.049  , -2.715  , -2.375  ],\n",
       "        ...,\n",
       "        [-5.074  , -4.754  , -3.957  ],\n",
       "        [-5.234  , -4.875  , -3.934  ],\n",
       "        [-5.35   , -4.793  , -4.11   ]]], dtype=float16)"
      ]
     },
     "execution_count": 64,
     "metadata": {},
     "output_type": "execute_result"
    }
   ],
   "source": [
    "pad_seq[19]"
   ]
  },
  {
   "cell_type": "code",
   "execution_count": 2,
   "metadata": {},
   "outputs": [],
   "source": [
    "import numpy as np\n",
    "\n",
    "n_seq = 2\n",
    "n_steps = 2\n",
    "n_features = 1\n",
    "\n",
    "x_input = np.array([60, 70, 80, 90])\n",
    "x_input = x_input.reshape((1, n_seq, n_steps, n_features))"
   ]
  },
  {
   "cell_type": "code",
   "execution_count": 3,
   "metadata": {},
   "outputs": [
    {
     "data": {
      "text/plain": [
       "array([[[[60],\n",
       "         [70]],\n",
       "\n",
       "        [[80],\n",
       "         [90]]]])"
      ]
     },
     "execution_count": 3,
     "metadata": {},
     "output_type": "execute_result"
    }
   ],
   "source": [
    "x_input"
   ]
  },
  {
   "cell_type": "code",
   "execution_count": 5,
   "metadata": {},
   "outputs": [],
   "source": [
    "\n",
    "def split_sequence(sequence, n_steps):\n",
    "\tX, y = list(), list()\n",
    "\tfor i in range(len(sequence)):\n",
    "\t\t# find the end of this pattern\n",
    "\t\tend_ix = i + n_steps\n",
    "\t\t# check if we are beyond the sequence\n",
    "\t\tif end_ix > len(sequence)-1:\n",
    "\t\t\tbreak\n",
    "\t\t# gather input and output parts of the pattern\n",
    "\t\tseq_x, seq_y = sequence[i:end_ix], sequence[end_ix]\n",
    "\t\tX.append(seq_x)\n",
    "\t\ty.append(seq_y)\n",
    "\treturn np.array(X), np.array(y)\n",
    "\n",
    "# define input sequence\n",
    "raw_seq = [10, 20, 30, 40, 50, 60, 70, 80, 90]\n",
    "# choose a number of time steps\n",
    "n_steps = 4\n",
    "# split into samples\n",
    "X, y = split_sequence(raw_seq, n_steps)"
   ]
  },
  {
   "cell_type": "code",
   "execution_count": 6,
   "metadata": {
    "scrolled": true
   },
   "outputs": [
    {
     "data": {
      "text/plain": [
       "array([[10, 20, 30, 40],\n",
       "       [20, 30, 40, 50],\n",
       "       [30, 40, 50, 60],\n",
       "       [40, 50, 60, 70],\n",
       "       [50, 60, 70, 80]])"
      ]
     },
     "execution_count": 6,
     "metadata": {},
     "output_type": "execute_result"
    }
   ],
   "source": [
    "X"
   ]
  },
  {
   "cell_type": "code",
   "execution_count": 16,
   "metadata": {},
   "outputs": [
    {
     "data": {
      "text/plain": [
       "(5, 4, 1, 1)"
      ]
     },
     "execution_count": 16,
     "metadata": {},
     "output_type": "execute_result"
    }
   ],
   "source": [
    "n_features = 1\n",
    "n_seq = 4\n",
    "n_steps = 1\n",
    "X_new = X.reshape((X.shape[0], n_seq, n_steps, n_features))\n",
    "X_new.shape"
   ]
  },
  {
   "cell_type": "code",
   "execution_count": 9,
   "metadata": {},
   "outputs": [
    {
     "data": {
      "text/plain": [
       "array([50, 60, 70, 80, 90])"
      ]
     },
     "execution_count": 9,
     "metadata": {},
     "output_type": "execute_result"
    }
   ],
   "source": [
    "y"
   ]
  },
  {
   "cell_type": "code",
   "execution_count": 8,
   "metadata": {},
   "outputs": [
    {
     "data": {
      "text/plain": [
       "array([[[[10],\n",
       "         [20]],\n",
       "\n",
       "        [[30],\n",
       "         [40]]],\n",
       "\n",
       "\n",
       "       [[[20],\n",
       "         [30]],\n",
       "\n",
       "        [[40],\n",
       "         [50]]],\n",
       "\n",
       "\n",
       "       [[[30],\n",
       "         [40]],\n",
       "\n",
       "        [[50],\n",
       "         [60]]],\n",
       "\n",
       "\n",
       "       [[[40],\n",
       "         [50]],\n",
       "\n",
       "        [[60],\n",
       "         [70]]],\n",
       "\n",
       "\n",
       "       [[[50],\n",
       "         [60]],\n",
       "\n",
       "        [[70],\n",
       "         [80]]]])"
      ]
     },
     "execution_count": 8,
     "metadata": {},
     "output_type": "execute_result"
    }
   ],
   "source": [
    "X_new"
   ]
  },
  {
   "cell_type": "code",
   "execution_count": 36,
   "metadata": {
    "scrolled": true
   },
   "outputs": [
    {
     "data": {
      "text/plain": [
       "(14887, 2048, 2)"
      ]
     },
     "execution_count": 36,
     "metadata": {},
     "output_type": "execute_result"
    }
   ],
   "source": [
    "fs = 0.01\n",
    "hopsize_t = 44100\n",
    "proc = FramedSignalProcessor(frame_size=2048, hopsize=int(fs*hopsize_t))\n",
    "frames = proc(\"testing_files/zombie_maker.wav\")\n",
    "frames.shape"
   ]
  },
  {
   "cell_type": "code",
   "execution_count": 38,
   "metadata": {},
   "outputs": [
    {
     "data": {
      "text/plain": [
       "(14887, 1024, 2)"
      ]
     },
     "execution_count": 38,
     "metadata": {},
     "output_type": "execute_result"
    }
   ],
   "source": [
    "fs = 0.01\n",
    "hopsize_t = 44100\n",
    "proc = FramedSignalProcessor(frame_size=1024, hopsize=int(fs*hopsize_t))\n",
    "frames = proc(\"testing_files/zombie_maker.wav\")\n",
    "frames.shape"
   ]
  },
  {
   "cell_type": "code",
   "execution_count": 49,
   "metadata": {},
   "outputs": [],
   "source": [
    "y, sr = librosa.load(\"testing_files/zombie_maker.wav\", sr=44100)"
   ]
  },
  {
   "cell_type": "code",
   "execution_count": 51,
   "metadata": {},
   "outputs": [
    {
     "data": {
      "text/plain": [
       "(466,)"
      ]
     },
     "execution_count": 51,
     "metadata": {},
     "output_type": "execute_result"
    }
   ],
   "source": [
    "onset_frames = librosa.onset.onset_detect(y=y, sr=sr, units=\"time\", hop_length=int(sr*0.01))\n",
    "onset_frames.shape"
   ]
  },
  {
   "cell_type": "code",
   "execution_count": 59,
   "metadata": {
    "scrolled": true
   },
   "outputs": [
    {
     "data": {
      "text/plain": [
       "array([  0.43,   0.65,   0.86,   1.08,   1.29,   1.51,   1.72,   1.93,\n",
       "         2.15,   2.36,   2.58,   2.79,   3.  ,   3.22,   3.43,   3.65,\n",
       "         3.86,   4.08,   4.29,   4.51,   4.72,   4.93,   5.15,   5.36,\n",
       "         5.58,   5.79,   6.  ,   6.22,   6.43,   6.65,   6.86,   7.08,\n",
       "         7.29,   7.51,   7.61,   7.72,   7.94,   8.15,   8.37,   8.58,\n",
       "         8.79,   9.  ,   9.22,   9.43,   9.65,   9.76,   9.86,  10.08,\n",
       "        10.19,  10.29,  10.51,  10.72,  10.94,  11.15,  11.36,  11.58,\n",
       "        11.79,  12.01,  12.23,  12.33,  12.4 ,  12.65,  12.76,  12.97,\n",
       "        13.18,  13.29,  13.5 ,  13.61,  13.72,  14.11,  14.15,  14.37,\n",
       "        14.58,  14.79,  15.01,  15.23,  15.44,  15.65,  15.87,  16.08,\n",
       "        16.29,  16.51,  16.72,  16.94,  17.15,  17.37,  17.58,  17.8 ,\n",
       "        18.01,  18.22,  18.43,  18.65,  18.87,  19.08,  19.29,  19.51,\n",
       "        19.72,  19.94,  20.15,  20.37,  20.58,  20.79,  21.01,  21.23,\n",
       "        21.44,  21.65,  21.86,  22.08,  22.29,  22.51,  22.72,  22.94,\n",
       "        23.15,  23.36,  23.58,  23.8 ,  24.01,  24.22,  24.44,  24.66,\n",
       "        24.87,  25.08,  25.29,  25.51,  25.72,  25.94,  26.01,  26.1 ,\n",
       "        26.15,  26.36,  26.48,  26.58,  26.68,  26.79,  26.9 ,  27.01,\n",
       "        27.22,  27.33,  27.42,  27.65,  27.75,  27.87,  28.3 ,  28.52,\n",
       "        28.72,  28.94,  29.06,  29.15,  29.58,  29.79,  30.  ,  30.3 ,\n",
       "        30.43,  30.86,  31.2 ,  31.3 ,  31.72,  31.94,  32.15,  32.58,\n",
       "        32.92,  33.21,  33.39,  33.44,  33.64,  33.74,  33.86,  34.18,\n",
       "        34.29,  34.71,  35.15,  35.48,  35.58,  36.01,  36.28,  36.45,\n",
       "        36.65,  36.87,  37.29,  37.72,  38.01,  38.15,  38.58,  38.8 ,\n",
       "        38.88,  39.01,  39.43,  39.87,  40.08,  40.19,  40.39,  40.51,\n",
       "        40.61,  40.72,  40.93,  41.04,  41.15,  41.46,  41.58,  41.8 ,\n",
       "        42.01,  42.23,  42.33,  42.44,  42.87,  43.3 ,  43.51,  43.72,\n",
       "        44.15,  44.58,  44.8 ,  45.01,  45.28,  45.33,  45.39,  45.44,\n",
       "        45.65,  45.76,  45.86,  46.08,  46.19,  46.3 ,  46.51,  46.62,\n",
       "        46.72,  46.83,  46.94,  47.05,  47.15,  47.37,  47.47,  47.58,\n",
       "        47.69,  47.8 ,  47.9 ,  48.01,  48.22,  48.33,  48.44,  48.76,\n",
       "        48.87,  49.08,  49.19,  49.3 ,  49.51,  49.72,  50.16,  50.37,\n",
       "        50.58,  50.73,  51.01,  51.33,  51.44,  51.76,  51.87,  52.19,\n",
       "        52.29,  52.51,  52.72,  52.83,  52.94,  53.15,  53.37,  53.47,\n",
       "        53.79,  53.9 ,  54.11,  54.22,  54.33,  54.44,  54.64,  54.75,\n",
       "        54.86,  55.18,  55.29,  55.51,  55.73,  55.94,  56.15,  56.37,\n",
       "        56.58,  56.79,  57.01,  57.22,  57.44,  57.65,  57.87,  58.08,\n",
       "        58.29,  58.51,  58.72,  58.94,  59.15,  59.36,  59.58,  59.8 ,\n",
       "        60.01,  60.22,  60.44,  60.65,  60.87,  61.08,  61.3 ,  61.51,\n",
       "        61.72,  61.94,  62.69,  63.01,  63.25,  63.33,  63.57,  63.62,\n",
       "        63.67,  63.84,  63.89,  63.95,  64.01,  64.13,  64.3 ,  64.72,\n",
       "        64.95,  65.04,  65.12,  65.21,  65.31,  65.4 ,  65.51,  65.61,\n",
       "        65.71,  66.23,  66.44,  66.68,  66.83,  66.99,  67.15,  69.01,\n",
       "        69.77,  69.87,  70.61,  70.72,  72.33,  72.44,  73.19,  73.3 ,\n",
       "        74.16,  75.46,  75.88,  76.25,  76.55,  78.01,  78.88,  79.24,\n",
       "        79.73,  80.51,  83.16,  83.59,  84.87,  85.73,  86.16,  86.59,\n",
       "        87.45,  87.88,  88.73,  89.16,  90.02,  90.68,  90.9 ,  92.05,\n",
       "        93.14,  94.96,  95.16,  95.39,  96.45,  98.71,  99.17, 101.17,\n",
       "       102.29, 102.45, 102.73, 102.87, 103.21, 104.15, 105.02, 105.23,\n",
       "       105.87, 106.63, 107.58, 108.45, 108.66, 109.3 , 111.01, 111.88,\n",
       "       112.09, 112.73, 113.49, 114.44, 115.3 , 115.51, 116.16, 117.01,\n",
       "       117.87, 119.16, 119.58, 121.3 , 123.01, 124.72, 125.15, 125.36,\n",
       "       125.8 , 126.01, 126.44, 127.29, 128.15, 128.58, 128.79, 129.01,\n",
       "       129.44, 129.86, 130.3 , 130.51, 131.15, 131.58, 132.01, 132.27,\n",
       "       132.45, 132.65, 132.86, 133.1 , 133.29, 133.72, 134.58, 134.8 ,\n",
       "       135.01, 135.25, 135.44, 135.66, 135.76, 135.86, 135.91, 136.08,\n",
       "       136.29, 136.72, 137.15, 137.58, 138.01, 138.43, 138.87, 139.13,\n",
       "       139.3 , 139.51, 139.72, 139.96, 140.15, 140.58, 141.43, 141.65,\n",
       "       141.86, 142.3 , 142.93, 143.04, 143.25, 143.47, 143.58, 144.  ,\n",
       "       144.39, 144.43])"
      ]
     },
     "execution_count": 59,
     "metadata": {},
     "output_type": "execute_result"
    }
   ],
   "source": [
    "onset_frames"
   ]
  },
  {
   "cell_type": "code",
   "execution_count": 53,
   "metadata": {},
   "outputs": [],
   "source": [
    "import madmom\n",
    "proc = madmom.features.beats.DBNBeatTrackingProcessor(fps=100)\n",
    "act = madmom.features.beats.RNNBeatProcessor()(\"testing_files/zombie_maker.wav\")\n"
   ]
  },
  {
   "cell_type": "code",
   "execution_count": 65,
   "metadata": {},
   "outputs": [],
   "source": [
    "proc = madmom.features.beats.DBNBeatTrackingProcessor(fps=100)\n"
   ]
  },
  {
   "cell_type": "code",
   "execution_count": 64,
   "metadata": {},
   "outputs": [],
   "source": [
    "act = madmom.features.beats.RNNBeatProcessor()(\"testing_files/zombie_maker.wav\")\n"
   ]
  },
  {
   "cell_type": "code",
   "execution_count": 54,
   "metadata": {},
   "outputs": [],
   "source": [
    "beat_times = proc(act)"
   ]
  },
  {
   "cell_type": "code",
   "execution_count": 66,
   "metadata": {
    "scrolled": true
   },
   "outputs": [
    {
     "data": {
      "text/plain": [
       "(347,)"
      ]
     },
     "execution_count": 66,
     "metadata": {},
     "output_type": "execute_result"
    }
   ],
   "source": [
    "beat_times.shape"
   ]
  },
  {
   "cell_type": "code",
   "execution_count": 60,
   "metadata": {},
   "outputs": [],
   "source": [
    "from common.audio_preprocessing import get_madmom_log_mels"
   ]
  },
  {
   "cell_type": "code",
   "execution_count": 61,
   "metadata": {},
   "outputs": [],
   "source": [
    "mfcc = get_madmom_log_mels(\"testing_files/zombie_maker.wav\", 44100, 0.01, 1)"
   ]
  },
  {
   "cell_type": "code",
   "execution_count": 63,
   "metadata": {},
   "outputs": [
    {
     "data": {
      "text/plain": [
       "(14887, 1200)"
      ]
     },
     "execution_count": 63,
     "metadata": {},
     "output_type": "execute_result"
    }
   ],
   "source": [
    "mfcc.shape"
   ]
  },
  {
   "cell_type": "code",
   "execution_count": 67,
   "metadata": {},
   "outputs": [
    {
     "data": {
      "text/plain": [
       "(466,)"
      ]
     },
     "execution_count": 67,
     "metadata": {},
     "output_type": "execute_result"
    }
   ],
   "source": [
    "onset_frames.shape"
   ]
  },
  {
   "cell_type": "code",
   "execution_count": 69,
   "metadata": {},
   "outputs": [
    {
     "data": {
      "text/plain": [
       "44100"
      ]
     },
     "execution_count": 69,
     "metadata": {},
     "output_type": "execute_result"
    }
   ],
   "source": [
    "hopsize_t"
   ]
  }
 ],
 "metadata": {
  "kernelspec": {
   "display_name": "Python 3",
   "language": "python",
   "name": "python3"
  },
  "language_info": {
   "codemirror_mode": {
    "name": "ipython",
    "version": 3
   },
   "file_extension": ".py",
   "mimetype": "text/x-python",
   "name": "python",
   "nbconvert_exporter": "python",
   "pygments_lexer": "ipython3",
   "version": "3.6.9"
  }
 },
 "nbformat": 4,
 "nbformat_minor": 2
}
